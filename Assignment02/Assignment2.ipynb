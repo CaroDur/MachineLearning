{
 "cells": [
  {
   "cell_type": "markdown",
   "metadata": {},
   "source": [
    "# Assignment 2: Support Vector Machines\n",
    "\n",
    "In this assignment you will:\n",
    "* Implement a linear SVM via stochastic gradient descent\n",
    "* Do multi-class handwritten digit classification with off-the-shelf SVM solvers (with kernel functions)\n",
    "* Tune model hyper-parameters to achieve good generalisation"
   ]
  },
  {
   "cell_type": "markdown",
   "metadata": {},
   "source": [
    "# Part 1: Implement a linear SVM\n",
    "\n",
    "## Setup\n",
    "\n",
    "First import the required packages and do some setup:"
   ]
  },
  {
   "cell_type": "code",
   "execution_count": 34,
   "metadata": {},
   "outputs": [
    {
     "output_type": "stream",
     "name": "stdout",
     "text": [
      "The autoreload extension is already loaded. To reload it, use:\n  %reload_ext autoreload\n"
     ]
    }
   ],
   "source": [
    "import time\n",
    "import numpy as np\n",
    "import matplotlib.pyplot as plt\n",
    "from scipy.io import loadmat, savemat\n",
    "from sklearn.model_selection import train_test_split\n",
    "from assignment2 import svm_loss, svm_gradient, svm_solver\n",
    "\n",
    "# Set default parameters for plots\n",
    "plt.rcParams['figure.figsize'] = (12.0, 6.0)\n",
    "plt.rcParams['image.interpolation'] = 'nearest'\n",
    "plt.rcParams['image.cmap'] = 'gray'\n",
    "\n",
    "%load_ext autoreload\n",
    "%autoreload 2"
   ]
  },
  {
   "cell_type": "markdown",
   "metadata": {},
   "source": [
    "Now load the face dataset. The labels are set to **-1 for non-face and 1 for face**."
   ]
  },
  {
   "cell_type": "code",
   "execution_count": 35,
   "metadata": {},
   "outputs": [],
   "source": [
    "# Load the dataset\n",
    "data = loadmat('faces.mat')\n",
    "labels = np.squeeze(data['Labels'])\n",
    "data = data['Data']"
   ]
  },
  {
   "cell_type": "markdown",
   "metadata": {},
   "source": [
    "Divide the dataset into train and test sets."
   ]
  },
  {
   "cell_type": "code",
   "execution_count": 36,
   "metadata": {
    "scrolled": true
   },
   "outputs": [
    {
     "output_type": "stream",
     "name": "stdout",
     "text": [
      "Training data shape:  (13882, 576)\nTraining labels shape:  (13882,)\nTest data shape:  (5950, 576)\nTest labels shape:  (5950,)\n"
     ]
    }
   ],
   "source": [
    "X_train, X_test, y_train, y_test = train_test_split(data, labels, test_size=0.3)\n",
    "\n",
    "# As a sanity check, we print out the size of the training and test data.\n",
    "print('Training data shape: ', X_train.shape)\n",
    "print('Training labels shape: ', y_train.shape)\n",
    "print('Test data shape: ', X_test.shape)\n",
    "print('Test labels shape: ', y_test.shape)"
   ]
  },
  {
   "cell_type": "markdown",
   "metadata": {},
   "source": [
    "Visualize some examples to check that the data is fine:"
   ]
  },
  {
   "cell_type": "code",
   "execution_count": 37,
   "metadata": {},
   "outputs": [
    {
     "output_type": "display_data",
     "data": {
      "text/plain": "<Figure size 864x432 with 20 Axes>",
      "image/svg+xml": "<?xml version=\"1.0\" encoding=\"utf-8\" standalone=\"no\"?>\r\n<!DOCTYPE svg PUBLIC \"-//W3C//DTD SVG 1.1//EN\"\r\n  \"http://www.w3.org/Graphics/SVG/1.1/DTD/svg11.dtd\">\r\n<!-- Created with matplotlib (https://matplotlib.org/) -->\r\n<svg height=\"280.847467pt\" version=\"1.1\" viewBox=\"0 0 703.725 280.847467\" width=\"703.725pt\" xmlns=\"http://www.w3.org/2000/svg\" xmlns:xlink=\"http://www.w3.org/1999/xlink\">\r\n <defs>\r\n  <style type=\"text/css\">\r\n*{stroke-linecap:butt;stroke-linejoin:round;}\r\n  </style>\r\n </defs>\r\n <g id=\"figure_1\">\r\n  <g id=\"patch_1\">\r\n   <path d=\"M 0 280.847467 \r\nL 703.725 280.847467 \r\nL 703.725 0 \r\nL 0 0 \r\nz\r\n\" style=\"fill:none;\"/>\r\n  </g>\r\n  <g id=\"axes_1\">\r\n   <g clip-path=\"url(#pc96651c0bc)\">\r\n    <image height=\"57\" id=\"image79121a1e8c\" transform=\"scale(1 -1)translate(0 -57)\" width=\"57\" x=\"26.925\" xlink:href=\"data:image/png;base64,\r\niVBORw0KGgoAAAANSUhEUgAAADkAAAA5CAYAAACMGIOFAAAABHNCSVQICAgIfAhkiAAABTJJREFUaIHlmrlO9EoQhc/8mH0HCRASIBBCIuE5CEh4JF4LMgJEiESARABiCZBYhp1hnRvwf+3jdt+rG09XYqvKLttdVaeWdmNzc7MtSd/f34rp8/NTkvT19RV4f/78kSQ9Pz8H3sPDgySpq6urcpSk7u5uuf6iKIKsp6dHkjQzMxN45+fnFdnHx0eQDQ8PV97h5+cnyHZ2diRJW1tbgXd1dfV7fe3LOpAKVpqjEyvlloTnlh8cHPxV9tdKLmu32xWZW/n19VWS9PT0FHijo6OSSgtiPX8PdL69vQXZ9PS0JOno6CjwVldXJWViySw+MqBAb29vYOIWAwMDkqT39/cgA4xSbgThTpLUaDQkpYEN/S8vL4GHO/f19dV04/Lw0O3Xu7uenp5KysWS/f39NSarDlSPj48HWbPZlFRaVCpBi+udAAd0OvDgISMjI4HnemOdsX7XhWc5GA0NDf3eV3urDqQsPjIAj7sCbgCApFzGgYrcSW5z4PGKRaqDlFTNkwAI5Pk7Bq+5ublwvrKyIkk6PDwMvNvb2993rj2xA6lI1YHUjfCoTKRyZR32Y6B6fHwMMoL/7u5OUrqudR4EgLjHoD8FcHhAq9UKPFJUHpZkFR16WWHgPLX61KtS2ZFwva80XsBKe4pAr3cmyHmOexh6ibW1tbUg29vbq71XuK/G6UDK4iOTwAPBcxfj3OtZakjcz3UBSrifpxDAC3ByHTwn5a5UYAcHB0E2Pz8vqQRNl+dhSVbKa1jqUyiuJ2Pe/6k3HdohigYvGLAER9eF96Ar1aG45WnA87AkceEwTvwA/75inLtliCNW2nXFZZz3gJCXa1gVS3phgbch8xKQ67wMpLvJwpJZfGRB8Ht9yjmu7MFPYKea37gbie/9N5nDfvwO7spUVrgptalUuqmHEe+ThyWBfw/weH7qq8+5rzBWTU290U9N6WCRmuFCcf3s99KZeN/KdZ4KQ3dU096BlMVHFuQSr0Vx3bjCkNLji9i9fboXgv8vyCwuLtZk/mzAxTeUIG+g/X5/tudoKAtLNra3t9tSerZ6cXEhqTocIsCXl5cDb2FhoaLUqw46gePjY0nlNp9f5+mIc8YlnoJIGRz9nRmG3d/fB15WwFPs7u5KKre+pDIVMFLw9AKdnJyEc6bXxMzNzU2QYRHi2ntHLOJxHncfnnKw8uTkpKSqJXl/1xXGMbW370DK4iMLoPrs7CwwcRWAITUtd3BBDqj4ZJvzeEtOKiuWlC5Aw+tTUg1HTzNUOp6OqLzysCTVvgMCIMGquCUJdq8RCXZSideb6EVHakPXrQXF3pSSufeh39NRVsBTpEaRENZKxUzqPlbOYyVlCQivSA3KIO9zIbzBPYCpuhMemYUls/jIAvdL/QOQ2rqLm2CprFJwU3fleBPIQcxBCIrd03UBYqQGr1N9Izf+jjwsmVpNErH/qwNRN3rfxrYfvamvPquOlVPpwr0o/hvFN3vjP09cltrqy2qQlcVHJrcJZmdnJUnr6+uSqpUF5I0ybdfl5aWkqvsBNICEPwd3chejYsH9PP8RFqntQ8LCATGrn5WKjY0NSdXZJ1ZK/W3BKrq1sARWc/DgfGlpSVK1AuLP4rGxscCLN5QmJiaCjL+auc/JZ7AQQJWFJRvNZrMtVWOF+MG6Pv6YmppSfD3yVKcRdwc+ZiHW/XrijtHL9fV1kMW/gu7v7weZpxOIZ2ZhySw+stFqtWoRG0+v/UcmQCi1EZOSQQCOg9J/tWs8k3mtVM5wGbP4eyHz2jcrd/0HnKE++AlDSdIAAAAASUVORK5CYII=\" y=\"-22.063888\"/>\r\n   </g>\r\n   <g id=\"text_1\">\r\n    <!-- -1 -->\r\n    <defs>\r\n     <path d=\"M 4.890625 31.390625 \r\nL 31.203125 31.390625 \r\nL 31.203125 23.390625 \r\nL 4.890625 23.390625 \r\nz\r\n\" id=\"DejaVuSans-45\"/>\r\n     <path d=\"M 12.40625 8.296875 \r\nL 28.515625 8.296875 \r\nL 28.515625 63.921875 \r\nL 10.984375 60.40625 \r\nL 10.984375 69.390625 \r\nL 28.421875 72.90625 \r\nL 38.28125 72.90625 \r\nL 38.28125 8.296875 \r\nL 54.390625 8.296875 \r\nL 54.390625 0 \r\nL 12.40625 0 \r\nz\r\n\" id=\"DejaVuSans-49\"/>\r\n    </defs>\r\n    <g transform=\"translate(49.315694 16.318125)scale(0.12 -0.12)\">\r\n     <use xlink:href=\"#DejaVuSans-45\"/>\r\n     <use x=\"36.083984\" xlink:href=\"#DejaVuSans-49\"/>\r\n    </g>\r\n   </g>\r\n  </g>\r\n  <g id=\"axes_2\">\r\n   <g clip-path=\"url(#p45dd626e8f)\">\r\n    <image height=\"57\" id=\"imageedf88a7999\" transform=\"scale(1 -1)translate(0 -57)\" width=\"57\" x=\"95.019915\" xlink:href=\"data:image/png;base64,\r\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\" y=\"-22.063888\"/>\r\n   </g>\r\n   <g id=\"text_2\">\r\n    <!-- -1 -->\r\n    <g transform=\"translate(117.410609 16.318125)scale(0.12 -0.12)\">\r\n     <use xlink:href=\"#DejaVuSans-45\"/>\r\n     <use x=\"36.083984\" xlink:href=\"#DejaVuSans-49\"/>\r\n    </g>\r\n   </g>\r\n  </g>\r\n  <g id=\"axes_3\">\r\n   <g clip-path=\"url(#pb6c892bb66)\">\r\n    <image height=\"57\" id=\"imagef216ebe84d\" transform=\"scale(1 -1)translate(0 -57)\" width=\"57\" x=\"163.114831\" xlink:href=\"data:image/png;base64,\r\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\" y=\"-22.063888\"/>\r\n   </g>\r\n   <g id=\"text_3\">\r\n    <!-- -1 -->\r\n    <g transform=\"translate(185.505524 16.318125)scale(0.12 -0.12)\">\r\n     <use xlink:href=\"#DejaVuSans-45\"/>\r\n     <use x=\"36.083984\" xlink:href=\"#DejaVuSans-49\"/>\r\n    </g>\r\n   </g>\r\n  </g>\r\n  <g id=\"axes_4\">\r\n   <g clip-path=\"url(#p88395b32f4)\">\r\n    <image height=\"57\" id=\"image1b582e8743\" transform=\"scale(1 -1)translate(0 -57)\" width=\"57\" x=\"231.209746\" xlink:href=\"data:image/png;base64,\r\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\" y=\"-22.063888\"/>\r\n   </g>\r\n   <g id=\"text_4\">\r\n    <!-- -1 -->\r\n    <g transform=\"translate(253.60044 16.318125)scale(0.12 -0.12)\">\r\n     <use xlink:href=\"#DejaVuSans-45\"/>\r\n     <use x=\"36.083984\" xlink:href=\"#DejaVuSans-49\"/>\r\n    </g>\r\n   </g>\r\n  </g>\r\n  <g id=\"axes_5\">\r\n   <g clip-path=\"url(#pc4b8706d36)\">\r\n    <image height=\"57\" id=\"image0954ff774a\" transform=\"scale(1 -1)translate(0 -57)\" width=\"57\" x=\"299.304661\" xlink:href=\"data:image/png;base64,\r\niVBORw0KGgoAAAANSUhEUgAAADkAAAA5CAYAAACMGIOFAAAABHNCSVQICAgIfAhkiAAAA/tJREFUaIHtWrtOJEEMrIEBBEjECCG+gJSQlJ/g//gMEKQEJERESCDxEEK8BMtzLqGaWk9ts3fh+iqZke1xP+y2uz3d7O7udgiYmZkBAHx9fQEAuu5HZGpqCgAwPT1daE4ugjJ8ajsOjvf5+dnTEfvl5PucCUT79vYGYHgmaCXORM1CCs7wx8dHoTVN06OVxtu2p5/yzjvYH0J1Ol18T2HJFINs+aJmphs4dy2L2Sx0fqc8FySivHNX0pybk6bBj/Kqi23nsqQLFoQueL7rLPI9WkHlHY9tMmioLn7nLEld2s8YlLStFJZMMcjiJ2r69/f3Ho3gYlZ3rQWjqEO/cwEkBj1FzNfqynHJKHJYklZTK8TQrjNNuJmu8ahDU0oMMsp3Aa6khO++6nfOK2jVHJZ0p4O4JnXGSlgWy/PEwNnUtUK52olGUwj50aLaH7eJIGxfe1ITiBSDLIFHEXcUNRnl08VUPrqkCyROnjR3dHJwgaroHPnVBKF1pwTOWDzAAj5Zz87OAgCen58BAHNzcz15F8Q467UAokEp8rRfMcApcljSzWLcumm6cIUsrh/S3MmhtnlQxKTuUkLcFCjceFJYMsUgW7dLYSCJQQPwFbm42NVlYv3UnThUf0wB6q50T1caYR/Yd6XlsCRfxj1PxsWv745HHS5JE2qRmL5qRbHf6rupKugpBlnc1ZUz4lPh9qCu+vb6+jpE032qq+ARpLm2Ha22tHJYspYmXLpwiHz+RFK9LsTHIKO6aj+b3Hf0LG2bQSuFJZvBYNABwO3tbSFyNh4fHwEA19fXhbe/vw8AuLu7K7SHhwcAwNXVFQDg5eWl8LgWOasLCwuFR6sqbX5+HsDPSUb7Rdr9/T0AYHNzs8fTNV/aHjH4iUKKQTbd9yqmawLAyckJAOD4+BgAsLOzU3hHR0cAgJubm74ykxJi4HCh3vFdbTVWyXVfTDdfXFwsNC6DHJZcXV3tgJ+kDfRrnspzpYdxbn84/K18hHqF86JUgafd2NgAAOzt7RUiE7IrCrn1QDl398aVFuN3apHadi7K/Fau/H8KmTQ0BwcHHQBsb28XoksPNcTA49yvdkqo6azdHnHQQ3auX3eHh4cAgKenpx5z3NmP1etx7/E4xBKKu+NT64tDCkumGGR7eXkJYDgvxZ8s7iDq4HikuR1JLQ8T7s907Upa3h8+5+fnI5luZ/FbKSTKR+vWrpgpjbunlZWVwltaWhrScXp62mvb6cphyYuLi3/6sFb4qsk7S7rqPePA2dlZ4bHEsba2BgBYXl4uvMFgMPTU/qSwZIpBttynumtn7ihEuPuutUt/dDV1V3ePgO7m7iusr68DALa2tkb2y91vSGHJP+xhIgYFHnCkAAAAAElFTkSuQmCC\" y=\"-22.063888\"/>\r\n   </g>\r\n   <g id=\"text_5\">\r\n    <!-- -1 -->\r\n    <g transform=\"translate(321.695355 16.318125)scale(0.12 -0.12)\">\r\n     <use xlink:href=\"#DejaVuSans-45\"/>\r\n     <use x=\"36.083984\" xlink:href=\"#DejaVuSans-49\"/>\r\n    </g>\r\n   </g>\r\n  </g>\r\n  <g id=\"axes_6\">\r\n   <g clip-path=\"url(#p14fb5161ed)\">\r\n    <image height=\"57\" id=\"image9196666058\" transform=\"scale(1 -1)translate(0 -57)\" width=\"57\" x=\"367.399576\" xlink:href=\"data:image/png;base64,\r\niVBORw0KGgoAAAANSUhEUgAAADkAAAA5CAYAAACMGIOFAAAABHNCSVQICAgIfAhkiAAAAtJJREFUaIHtmr9OMkEUxX8roKAYFBJBDGgDoZKSjkQqXoHn4V18BBsLews6Ciow4Y+VShSMIvBVd2Z29YsmsonZ2dMA9+4OnD13zp2Z4DSbzTXAYDBAkE6nAdjZ2XF9BpjNZgBcX19/ur5UKgEQi8VUbnd3F4D393cATk5OVK7dbgNQKBTwE1u+jv5HEE2lUoB+4gDz+RyARCIBwGq1+nRjpVJR77vdLgCZTAaAbDarcqLgx8cHAPf39yo3nU6BUMmNwAqSUSnFeDyughKTct3a0s9CzMhxHBWT98/PzwAcHx+r3OPjo2sseQV4enpyfZ/3uzYFO5Q8ODgA4OXlRQXFLOSpPzw8qJy0h+3tbRXb29sDtMpiKOZ1i8XC9eod109YoaQVJKP1eh2Aq6srFez1egBIKb+9vamclJ9pVIeHhwCcnp4CutwB8vk8AHd3d677Qa+epId689/hp4Zlh5KdTgfQdg56xfNVe5lMJoDbQOS6SCQCwP7+vsqJuYiJmSr/Fj9tN3Yo2Wg0ABgOhyooOwVRwXxiMv9eX1/1INEooHcyMjfBPd+8EOX9WACYsEJJK0iqFnJ5efkpKSuXo6MjFZPSMjfGUsK3t7eA3jyDNpzlcgm4W4RpUH7CDiXFNKTxA4zHY0Cbi6xNQbcas614DcTMydGILArMo5RisSg/YhNc/gs7lJQ5U61WVXA0GgF6OWe2i1wuB2j1QO8+Wq0WAOfn5yon7SSZTALuqjg7O9sMi29ghZJWkFQz/uLiQgVvbm4AKJfLgPustFarAfpkDrRxSNnKCSBoQ5PWYZa5aVB+wgolndVqtfYG+/0+oFuJqYyckYpqAOu1ewhzoeB3e/gJrFDSCpJflqtAtkl/oeR+g1DJoMAKJUOSQUFIMigISQYFIcmgICQZFIQkg4KQZFBgB0nHcVx/IQsirFAy6j0zDSKsUDIkGRSEJIMCK0j+A3jr0UclMyCAAAAAAElFTkSuQmCC\" y=\"-22.063888\"/>\r\n   </g>\r\n   <g id=\"text_6\">\r\n    <!-- -1 -->\r\n    <g transform=\"translate(389.79027 16.318125)scale(0.12 -0.12)\">\r\n     <use xlink:href=\"#DejaVuSans-45\"/>\r\n     <use x=\"36.083984\" xlink:href=\"#DejaVuSans-49\"/>\r\n    </g>\r\n   </g>\r\n  </g>\r\n  <g id=\"axes_7\">\r\n   <g clip-path=\"url(#p2622dc2775)\">\r\n    <image height=\"57\" id=\"imagef0e700d457\" transform=\"scale(1 -1)translate(0 -57)\" width=\"57\" x=\"435.494492\" xlink:href=\"data:image/png;base64,\r\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\" y=\"-22.063888\"/>\r\n   </g>\r\n   <g id=\"text_7\">\r\n    <!-- -1 -->\r\n    <g transform=\"translate(457.885185 16.318125)scale(0.12 -0.12)\">\r\n     <use xlink:href=\"#DejaVuSans-45\"/>\r\n     <use x=\"36.083984\" xlink:href=\"#DejaVuSans-49\"/>\r\n    </g>\r\n   </g>\r\n  </g>\r\n  <g id=\"axes_8\">\r\n   <g clip-path=\"url(#peb322b1366)\">\r\n    <image height=\"57\" id=\"image980705d10d\" transform=\"scale(1 -1)translate(0 -57)\" width=\"57\" x=\"503.589407\" xlink:href=\"data:image/png;base64,\r\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\" y=\"-22.063888\"/>\r\n   </g>\r\n   <g id=\"text_8\">\r\n    <!-- -1 -->\r\n    <g transform=\"translate(525.980101 16.318125)scale(0.12 -0.12)\">\r\n     <use xlink:href=\"#DejaVuSans-45\"/>\r\n     <use x=\"36.083984\" xlink:href=\"#DejaVuSans-49\"/>\r\n    </g>\r\n   </g>\r\n  </g>\r\n  <g id=\"axes_9\">\r\n   <g clip-path=\"url(#pbce2d84c14)\">\r\n    <image height=\"57\" id=\"imagedb9274c9ad\" transform=\"scale(1 -1)translate(0 -57)\" width=\"57\" x=\"571.684322\" xlink:href=\"data:image/png;base64,\r\niVBORw0KGgoAAAANSUhEUgAAADkAAAA5CAYAAACMGIOFAAAABHNCSVQICAgIfAhkiAAAAxFJREFUaIHtmr9OKkEUxn8rIP4PAUOBrYma2FnZ+AAS6ExMeAALXwN7Wx/BR7CgMDHxPWzUQNDEKIgIFnpmZ9mBu+RevWZmvgYyZ3fmnP2+OTO7cwJgCBAEAeMwHA7H2v4HUqkUAIPBQLVN8nHm2z36BUibGufn5wF4e3uL/I5DJpNJdN0oRD1JlZJOf7pbKBQAaLVayiasmvpygkknglRy1WnudruxNoFM+vf3d9XW7/cTD6gnuNnZ2dj9er+jEEm+vr7G/HM+8QR8LSFG49dTn5mJP4uk6ftfQpgXNXU6nUT3OcGkE0FOlOtvg0wbmR5Jp4ln0hY4waQP0hb4IG2BD9IW+CBtgQ/SFvggbYEP0hb4IG2BD9IWOBGk8ejuOyBf4/WzENOnxWmP85LACSadCPLH5GqCHNzoEpajOy/XKfFjTC4sLACwt7en2g4PD4Hw0Bfg6uoKgPPzcwB6vd5fj+2ZNGFSvY/qNB12u7OzA8Dx8TEA1WpV2VZWVoDocfr29jYAjUYDgNvb21j/pvlqWnrUIfIfPbYATgQ59dGdSa7Ly8sA7O/vA1Cr1ZRtd3cXgFwuB0TrD0x9SRI6OzsDoF6vK9vDwwMwuULE5Ktn0oRSqQRApVJRbUdHRwBsbGwAkM1mwwFGEoKJPdN+Vhi9vr5WttPTUwAuLy8j10BY+ra0tKTa1tfXAUeYdCJIJVddMpIctra2ADg4OFA2kenm5qZqkyIi0/r1/PwMhBWUc3Nzyiay1gufpKRM/BEZQrhmXlxcANBut5VN+sjn86ptcXHxM56YVxYiCIJgCCEbACcnJwCUy2UA1tbWlE12M6alQJjU616lNEzuk1paCBOHvj+VPoQZffcktpeXl0jfADc3NwA8PT2ptmaz+enrmOCtgnpMOjPyprC6ugpE95byhE1p3wRRiLClVxuPzj/9v/ijszz6rqnfJ77q7Mr1TjDpRJBpoV6X5P39PQDFYhEIP1OAufZVlglJKnraF7nd3d3FxhEpyws1hBKUnYs+tshb/NOT0uPjIxB9NZPrnGDyA74PMXmLuZABAAAAAElFTkSuQmCC\" y=\"-22.063888\"/>\r\n   </g>\r\n   <g id=\"text_9\">\r\n    <!-- -1 -->\r\n    <g transform=\"translate(594.075016 16.318125)scale(0.12 -0.12)\">\r\n     <use xlink:href=\"#DejaVuSans-45\"/>\r\n     <use x=\"36.083984\" xlink:href=\"#DejaVuSans-49\"/>\r\n    </g>\r\n   </g>\r\n  </g>\r\n  <g id=\"axes_10\">\r\n   <g clip-path=\"url(#p13751135c0)\">\r\n    <image height=\"57\" id=\"image8d1f4ef413\" transform=\"scale(1 -1)translate(0 -57)\" width=\"57\" x=\"639.779237\" xlink:href=\"data:image/png;base64,\r\niVBORw0KGgoAAAANSUhEUgAAADkAAAA5CAYAAACMGIOFAAAABHNCSVQICAgIfAhkiAAABKtJREFUaIHtmksvbEEQx38YbyJi4RUJIkLCwiskNha+glhZ+EwWlha+hBUiEQsJCUKIhBDjEcJ4hDGGu5hbfWrOaWdmwiSXvv+NUdXndPX5d1dVV3dBPB7/AHh/f0dQWFiIRpgOYHNzE4De3l4ASkpKjO7t7S3tHa+vr4Hnc0UymQzYZbNvdnY2Jftyjz8ABcKk/gLyheRvJBIxOmHm8vLSyIS52traTzvKB5M2FBUVmd87OzuAI0w6MciIzZGEPvB36sZiMSNrb28Hwqd3PpDJIba0tKR0ebPgH0IkTClfx/bFdJiIx+MAVFdXf9o+H8j07qqqqlS7vFnwD8GJQRYkEokPv9CfSdhiqHYo29vbgJfxhE2jl5eXL5ibQrZx8vb2NmXPl3v8AciKSRt0m7OzMwD29vYAGBsbMzo/q3oGyDuen5+NrLKyMmPfiUQiYENpaWmgnThEN5hMJpOBXYgf2TALcHNzA0BNTU1AJ4xqJh8eHgCYn583soGBAQA6OzsD7xI7bKFN2NWMmvZZWf/D4cQgv3W62nJX2VrZppjodHtxQrJN6uvry6pvgS3c/WdSkCuTGmEhJGyH8vT0BMD5+bmRdXR0pLURZwNwf38PeGEDoKGhIWVDRst/AUJ3ITbY1pZfZ4Ntvfp14DFRXl4OeIxqaAYFFRUVQPo+9/DwMGXXp1b9IjgxyJynaxhyncK254qLiwGIRqMA1NXVZfWcLIPm5mYj29/fT9mQ0YJfgG9lMlfYWJZkQOq6PT09Rhe2z727uwPg+vrayJwqZDkxSDNdbTmfTWdDNuWSz/4HOD4+Nr9XV1cBGB0dDbST915dXQFeeQO8PLitrc3IJNa6wWRYXiq55cnJiZE9Pj4C6TmiFJb6+/uBcCY11tfXAZicnDQycTgzMzMAdHd3B56Tmq8OL01NTZ/24waT5ofKKaWMcXp6CkBjY6PRydfTBafFxUUA1tbWABgeHjY6YVLWnd55LCwsBAyanp4GYGRkJK0/8CrikjDYclhn95NODNLUXTXNR0dHgLd90afKkkXI4Q54pQobysrKAG/qyDEfwMHBQVob8ByIvzKnZQJdSZcprNvL0nCCSeNtJOsHLzzIol9ZWTG6oaEhwKuLgueYJDhr5sWhSXt9Z0CYaW1tNTLz9S112jDYmJffbjEp5xkQPJ0aHx83OikvaLYknEgaJesDPJaFEX3uISHBdmj7nUfzTjDpxCAjc3NzAaFUrW2LX35rZ7G8vAx4mY6twmbbyfidTL7gBpNTU1OAtyPQkC/d1dVlZFtbW6kHLbmuHJtpJv2HqvpoTY7WbQFcoHXSZ7YOSHJbJ5h0YpARyRv1lNzd3QW8StnFxYXRST6rY9vExATgTT99A0Mg7XWeGnYZymrs3+kq7cNugYDKZ0Nb/RKY8ofenAoj4mQ0dB1UINmPOCBdTPJ/fQ1hVR/SyB0BG6P+LMg2A3RZZmlpKaULvOkXoiAajX4A1NfXB5TCkM5TbTmlyGSvGXYXx3acrvejg4ODWRtvCyVSSQfY2NgAHGHSiUEWxGKxD/C2PRC8lRF2CT9bhB3ricMCb2mII9QhR0outtATlgU5weQfLHRyFLtHWgIAAAAASUVORK5CYII=\" y=\"-22.063888\"/>\r\n   </g>\r\n   <g id=\"text_10\">\r\n    <!-- -1 -->\r\n    <g transform=\"translate(662.169931 16.318125)scale(0.12 -0.12)\">\r\n     <use xlink:href=\"#DejaVuSans-45\"/>\r\n     <use x=\"36.083984\" xlink:href=\"#DejaVuSans-49\"/>\r\n    </g>\r\n   </g>\r\n  </g>\r\n  <g id=\"axes_11\">\r\n   <g clip-path=\"url(#p4628441247)\">\r\n    <image height=\"57\" id=\"image5981cbb8c3\" transform=\"scale(1 -1)translate(0 -57)\" width=\"57\" x=\"26.925\" xlink:href=\"data:image/png;base64,\r\niVBORw0KGgoAAAANSUhEUgAAADkAAAA5CAYAAACMGIOFAAAABHNCSVQICAgIfAhkiAAABdRJREFUaIHtm8eOFjsQhb+Bn5xzRmQkBAhWLOAh2LDiFXhBJCQ2CAQSAhbkIBFEzjnPXdz72afDE4yvN9Ny+Xe7fapOnXL3TJ08eXIa4P3799h+/vwJwOzZswFYunRpsS1YsIB++/z5c2d8tvnz5wOwaNEiAFavXl1s9mWbNWsWAJPJBIAvX74M7vPu3TsA7t69W2zPnj0bzLly5cp/5xzcZQa2ydTUFABz584tnSI3Z86cgc0+dxrq7ouaf/O3/l2yZEmxee+1a9eWvm/fvgHw9+9fADZt2jRYtEgmai9fvuysPedqAskmHnLy69cvoAuzLqVr6jrZp6tBdd158+YBsHDhwsH4r1+/AvD48eNi0+2WL19e+pzXOf78+VNsurxr3r59e7Ft2bIFqOSU62oDSXcsd9MdMCUkau5mkotIi9r3798Hc2nLnZb279y5U/pETlJZtWpVsa1fvx6oXrdhw4ZiE9Xz58+Xvh07dgCNINnEQ0500zH1obuO5ckcr+s6/vnz58X29u1bAKanpztjobrbzp07S19/HeY/qOSlakqFtXXrVgBu3rxZ+szfbSApSrmDEok7kUiKRGrYvjLK8V6rQZNI3P1MX87/5s2bwbqca0yJLV68eNBnawNJq48VK1aUTlEyjjKFeK0Namz4N/Xpjx8/OnN++PCh2K5evfrvIkIHWzk8efIEqPoT4Pjx40D1ihQd/bVAeORg1AxsTTzkpK8HYahqUrvafv/+Xa4tsp0jyeLjx48AfPr0CYBly5YVm6579uzZ0qficf5du3YVmwrJFJLpaOzezt8Gkj65tAw1dahB0ybhJPGkVoUuyha9jx49AiqiAEeOHAG6XpRCArqVhuSlgEkPk3ASXdfYBpLWgEnVxoWIZgqxjdWY9qVNTzHxX79+vdiMfVMD1CrFtJIxZhUianJBrjXTl+tqAskmHnIi5LotVNc10JN4dLEc3z9vTXf12tSRxblqa1Sl/Od+27ZtKzbDSKLLo5GxJgm1gaQVwBiRmHQzmEXXnc7fmjryNN7Uocfk7kvxmYJyXugSz6tXr4BKhEmIzmv9ClXbNoFkEw850dWyCF6zZg0wfkSvSyYZ6W7asnC9f/8+UEuuS5cuFZuhYg7NeS2nkpT279/fGZNh4fhUYhbSbSDpTiW1e21gJzGoSJKoDPCxlzrS+MaNGwE4ffp0sT18+HBwb5tnsQcOHCh9al3bjRs3yrWn8Ulsr1+/BlpBUv/O3fToTzpOZGyJrrs3Jh727NnTGXPq1Klis9bMuDPVHDx4EIBjx44VmzFm3B06dKjYrly5AsCLFy9K3//HHzOtFe2aRNKn71QWjssyR9f1d+ne/bPSbL5uM73kbz2fTSIx/WzevBmoCgjg4sWLQFcxqZfbQFJtmUcQHlGY3KV/qIn73r17pc8z0t27dwPdCsXzXBN/Hk9YGOdxichdu3YN6KK1d+/ezpye20IlMQtrqEcnbSCpNErfNxWYYJVmACdOnAC6L0BN3Mamv4OKlnHtCTnUVJD31osuXLgAdKWbcf3gwYPOfaEKC9GGmhabQLKJhyzaNYnHQnXdunVAl+LPnDkDdM9DVTUSkJoRqrsdPnx4cB+V1dOnT0ufRLNv377BYi9fvgxU5SPZQCWvfHlk+LSBpMlzLPilY1MDVGSyAnD3nSPFgH0imKLA3c+zWFOaLV/POZefqd2+fbvY+l+GQBUsTSDZxENOxr4B0EV8+ZJvodWUOd58ZKDn8Yfj+98CQCWedGFdvf+dLFRXNGSyPFTPSkr5HG0gaZrI3TTA/ZuFqLvvYRfUysRdz920SfdZ7ZiaMq2ojMa+grbpMfmdrJ6VxGNrA0nfe+RRntTuTmV6uXXrFtBNxDbHZaUxFvN9WyZw41+vSKHgPU17Y+9j0ovKK8jBnWdga+IhJ5ZMqTR0LUkgPxU7evQo0P1Xhv77+qR9bX3lA1WlpOtLHIbKuXPnik1NPPapnGvMsGvKXf8Bk+HK8WZsGp0AAAAASUVORK5CYII=\" y=\"-199.969342\"/>\r\n   </g>\r\n   <g id=\"text_11\">\r\n    <!-- 1 -->\r\n    <g transform=\"translate(51.480381 194.22358)scale(0.12 -0.12)\">\r\n     <use xlink:href=\"#DejaVuSans-49\"/>\r\n    </g>\r\n   </g>\r\n  </g>\r\n  <g id=\"axes_12\">\r\n   <g clip-path=\"url(#pf209769010)\">\r\n    <image height=\"57\" id=\"image5d6a4bba19\" transform=\"scale(1 -1)translate(0 -57)\" width=\"57\" x=\"95.019915\" xlink:href=\"data:image/png;base64,\r\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\" y=\"-199.969342\"/>\r\n   </g>\r\n   <g id=\"text_12\">\r\n    <!-- 1 -->\r\n    <g transform=\"translate(119.575297 194.22358)scale(0.12 -0.12)\">\r\n     <use xlink:href=\"#DejaVuSans-49\"/>\r\n    </g>\r\n   </g>\r\n  </g>\r\n  <g id=\"axes_13\">\r\n   <g clip-path=\"url(#p0f9681c515)\">\r\n    <image height=\"57\" id=\"imageebbf22cf17\" transform=\"scale(1 -1)translate(0 -57)\" width=\"57\" x=\"163.114831\" xlink:href=\"data:image/png;base64,\r\niVBORw0KGgoAAAANSUhEUgAAADkAAAA5CAYAAACMGIOFAAAABHNCSVQICAgIfAhkiAAABgRJREFUaIHlmtlqVU0Qhb/ocZ6NGuc4XEg0oCCiCAEH8NI39V58AsEBDWqCOBGnxHkeo/Hi5+te52Q/wd99c0JXp/fuXtW1VlXvofn5+QWAjx8/Yrt69SoAT58+BeDy5cvFtn79egA2b95c+m7fvg3A169fARgeHi62Xbt2AfD8+XMAXr58WWw/fvwAYMWKFaXvz58/AHz//r1vTLZly5YBsHz58tK3ceNGANasWVP6NmzYAMCSRTP8D1vv0qVLALx//750vn79GoC1a9cCsHTp0mJzdzZt2lT6tmzZAsDnz58BOHjwYLEdPXoUgGvXrgHVOwC2bdsGwNatW0vft2/f+t4n32thYQGAt2/fArBq1apiS1RtvncTSDaxyJ7Qe+ChBgKDRB7mI0eOAHDnzp3SpwuuW7cOgDNnzhTboUOHAHj48CEAf//+LTZdf2JiovTpkjdu3ADgwYMHxfbu3TugumGv1yu2nTt3AtXdAT59+gS0guT9+/cB+PDhQ+mUTqampoB+Srh48SJQwzhUdEZHRwHYu3dvsbmzQ0NDQN1xgAMHDgAwMjJS+gxojn/16lWxieTKlSsB2L9/f7H5jnoHwNzcHNAIkk0ssvf48WOgBgaoMKtgzp49W2zy0czMTOn7+fMnUPnR/4caJAwux48fL7YXL14A/cFF19eFT506VWyqH902g6XPSfXkHG0gaZhNZfH792+gonbs2LFiMyipiqAqkMnJSaAqGagBQXpRY0INLv5C9ZA3b94AVU1B9ZRfv34BNQBBDYQZEF1HG0jq1zt27Cidd+/eBap/p07V9zNUL1ny3165++pUqOdCRMwuoJK1Zx/gyZMnQBUiSfhqaZsZDvQjaBPpJpBsYpE9D3EqC11SdaI7QtWWY2Njpc+gpSvevHmz2HR1x2d69OXLF6AGElicMs3Ozpa/DSTj4+OdYwHm5+cXzdUGku5sljMkXXc/Q7z0cOHChdInxdy6dQsA9TBUwha16enpYlMvp27Wa3xm0sSJEyeA6mH5Xs6f5RJ1cxtI+ocSC2D16tUAnD59GuinFxHPXTT7OHz4MADXr18vNkWAtJSFLFFLmpBqRMtMBWp241lLQaLHJB15PptAsolF9lQRqTf37NkD1FLH9u3bi013ygzAzEEK0d2huo8BLv/PwJDJr/TgM/O9PCrOkXRh5pPz29pA0qwi87CTJ08CsG/fPqC/LirySeA2dz9JWmFh4Uu9Ct361PdwjkRSL9IDsupvdmPtFyo1NYFkE4ssfqImhRoIvNzJawJb9sl39qVNBSKvZuXPcRlA5FW51yAI1YV9V8dCDWypjQ16bSBpAHn27FnpdKc84F1qP9sggqmGTGatwmcF3WcnIgYvvSmRH/y/TKKdI5E0oLWBpOW9pARLjCr7JFhLHOZ2UDMF0eqiBMfkXKKc4y1p6D2ZVdjXVX4USeMINHYX0sQie5YukkJsKoZUEQaGPOCZJENVSlDdyN+s8kkdmbCrcKSlPEZqY6nBYwXdLtxUta5U0LPM4C5aqsiShcHo/PnzpW+QYjIoiZbekHpTOkma0LO82M3xg2glkj6zS7i0gaQ+nzvgDZfnL7/mcPe8oIVKBZ63DOM2qSDLE9JJfhHiHKKVuam3X8aKPH+OkxLzmU0g2cQie1JHVznDQ5/0osuk2xk4zBwePXpUbIMfHWWFzQvgpIkrV64AVZcmvai2fD+rg1ADj4Ex520DSXcs9aMa9Ny5c4v+wc/IvHiFeugl/MwPDWiS/O7du4vNazoRgoqOwa7rotVn37t3r9gcl5e8tiaQbGKR5cIn3dUgNHjfD7UumuPVlF2XLs7lbwYSj0pyrtcVunLyt4HQgJI62COWOrupa4KeoTc/ErSvqyLuzuZ4tauBIelIxKWhLH9Yz81vdQxCekUqGG3On3MlNQ2uow0ku4pUeX0O3RXxrmKVfbnDzuUcibJX7Uk5eo/j89z5JYmIZvFt8MsQqN+9N4FkE4vsmRalsvDADrohLKYEqO7WVUHXdf3NuXTJDGw+U22cXyIPpmupqX2fLMX4GVwTSP4DIPERwqte3mwAAAAASUVORK5CYII=\" y=\"-199.969342\"/>\r\n   </g>\r\n   <g id=\"text_13\">\r\n    <!-- 1 -->\r\n    <g transform=\"translate(187.670212 194.22358)scale(0.12 -0.12)\">\r\n     <use xlink:href=\"#DejaVuSans-49\"/>\r\n    </g>\r\n   </g>\r\n  </g>\r\n  <g id=\"axes_14\">\r\n   <g clip-path=\"url(#p0176fdff65)\">\r\n    <image height=\"57\" id=\"image5ffcac3142\" transform=\"scale(1 -1)translate(0 -57)\" width=\"57\" x=\"231.209746\" xlink:href=\"data:image/png;base64,\r\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\" y=\"-199.969342\"/>\r\n   </g>\r\n   <g id=\"text_14\">\r\n    <!-- 1 -->\r\n    <g transform=\"translate(255.765127 194.22358)scale(0.12 -0.12)\">\r\n     <use xlink:href=\"#DejaVuSans-49\"/>\r\n    </g>\r\n   </g>\r\n  </g>\r\n  <g id=\"axes_15\">\r\n   <g clip-path=\"url(#p5cc2e3202b)\">\r\n    <image height=\"57\" id=\"imagec20f06a7f2\" transform=\"scale(1 -1)translate(0 -57)\" width=\"57\" x=\"299.304661\" xlink:href=\"data:image/png;base64,\r\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\" y=\"-199.969342\"/>\r\n   </g>\r\n   <g id=\"text_15\">\r\n    <!-- 1 -->\r\n    <g transform=\"translate(323.860042 194.22358)scale(0.12 -0.12)\">\r\n     <use xlink:href=\"#DejaVuSans-49\"/>\r\n    </g>\r\n   </g>\r\n  </g>\r\n  <g id=\"axes_16\">\r\n   <g clip-path=\"url(#p3db4514165)\">\r\n    <image height=\"57\" id=\"imagea0f83aa472\" transform=\"scale(1 -1)translate(0 -57)\" width=\"57\" x=\"367.399576\" xlink:href=\"data:image/png;base64,\r\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\" y=\"-199.969342\"/>\r\n   </g>\r\n   <g id=\"text_16\">\r\n    <!-- 1 -->\r\n    <g transform=\"translate(391.954958 194.22358)scale(0.12 -0.12)\">\r\n     <use xlink:href=\"#DejaVuSans-49\"/>\r\n    </g>\r\n   </g>\r\n  </g>\r\n  <g id=\"axes_17\">\r\n   <g clip-path=\"url(#pd2cf1bf08e)\">\r\n    <image height=\"57\" id=\"image5c9f8ed1c0\" transform=\"scale(1 -1)translate(0 -57)\" width=\"57\" x=\"435.494492\" xlink:href=\"data:image/png;base64,\r\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\" y=\"-199.969342\"/>\r\n   </g>\r\n   <g id=\"text_17\">\r\n    <!-- 1 -->\r\n    <g transform=\"translate(460.049873 194.22358)scale(0.12 -0.12)\">\r\n     <use xlink:href=\"#DejaVuSans-49\"/>\r\n    </g>\r\n   </g>\r\n  </g>\r\n  <g id=\"axes_18\">\r\n   <g clip-path=\"url(#p19195aa83a)\">\r\n    <image height=\"57\" id=\"imagebd0c1690d8\" transform=\"scale(1 -1)translate(0 -57)\" width=\"57\" x=\"503.589407\" xlink:href=\"data:image/png;base64,\r\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\" y=\"-199.969342\"/>\r\n   </g>\r\n   <g id=\"text_18\">\r\n    <!-- 1 -->\r\n    <g transform=\"translate(528.144788 194.22358)scale(0.12 -0.12)\">\r\n     <use xlink:href=\"#DejaVuSans-49\"/>\r\n    </g>\r\n   </g>\r\n  </g>\r\n  <g id=\"axes_19\">\r\n   <g clip-path=\"url(#pa3a28384fe)\">\r\n    <image height=\"57\" id=\"image3ffa444c43\" transform=\"scale(1 -1)translate(0 -57)\" width=\"57\" x=\"571.684322\" xlink:href=\"data:image/png;base64,\r\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\" y=\"-199.969342\"/>\r\n   </g>\r\n   <g id=\"text_19\">\r\n    <!-- 1 -->\r\n    <g transform=\"translate(596.239703 194.22358)scale(0.12 -0.12)\">\r\n     <use xlink:href=\"#DejaVuSans-49\"/>\r\n    </g>\r\n   </g>\r\n  </g>\r\n  <g id=\"axes_20\">\r\n   <g clip-path=\"url(#p017672c08b)\">\r\n    <image height=\"57\" id=\"image10e865f397\" transform=\"scale(1 -1)translate(0 -57)\" width=\"57\" x=\"639.779237\" xlink:href=\"data:image/png;base64,\r\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\" y=\"-199.969342\"/>\r\n   </g>\r\n   <g id=\"text_20\">\r\n    <!-- 1 -->\r\n    <g transform=\"translate(664.334619 194.22358)scale(0.12 -0.12)\">\r\n     <use xlink:href=\"#DejaVuSans-49\"/>\r\n    </g>\r\n   </g>\r\n  </g>\r\n </g>\r\n <defs>\r\n  <clipPath id=\"pc96651c0bc\">\r\n   <rect height=\"56.745763\" width=\"56.745763\" x=\"26.925\" y=\"22.318125\"/>\r\n  </clipPath>\r\n  <clipPath id=\"p45dd626e8f\">\r\n   <rect height=\"56.745763\" width=\"56.745763\" x=\"95.019915\" y=\"22.318125\"/>\r\n  </clipPath>\r\n  <clipPath id=\"pb6c892bb66\">\r\n   <rect height=\"56.745763\" width=\"56.745763\" x=\"163.114831\" y=\"22.318125\"/>\r\n  </clipPath>\r\n  <clipPath id=\"p88395b32f4\">\r\n   <rect height=\"56.745763\" width=\"56.745763\" x=\"231.209746\" y=\"22.318125\"/>\r\n  </clipPath>\r\n  <clipPath id=\"pc4b8706d36\">\r\n   <rect height=\"56.745763\" width=\"56.745763\" x=\"299.304661\" y=\"22.318125\"/>\r\n  </clipPath>\r\n  <clipPath id=\"p14fb5161ed\">\r\n   <rect height=\"56.745763\" width=\"56.745763\" x=\"367.399576\" y=\"22.318125\"/>\r\n  </clipPath>\r\n  <clipPath id=\"p2622dc2775\">\r\n   <rect height=\"56.745763\" width=\"56.745763\" x=\"435.494492\" y=\"22.318125\"/>\r\n  </clipPath>\r\n  <clipPath id=\"peb322b1366\">\r\n   <rect height=\"56.745763\" width=\"56.745763\" x=\"503.589407\" y=\"22.318125\"/>\r\n  </clipPath>\r\n  <clipPath id=\"pbce2d84c14\">\r\n   <rect height=\"56.745763\" width=\"56.745763\" x=\"571.684322\" y=\"22.318125\"/>\r\n  </clipPath>\r\n  <clipPath id=\"p13751135c0\">\r\n   <rect height=\"56.745763\" width=\"56.745763\" x=\"639.779237\" y=\"22.318125\"/>\r\n  </clipPath>\r\n  <clipPath id=\"p4628441247\">\r\n   <rect height=\"56.745763\" width=\"56.745763\" x=\"26.925\" y=\"200.22358\"/>\r\n  </clipPath>\r\n  <clipPath id=\"pf209769010\">\r\n   <rect height=\"56.745763\" width=\"56.745763\" x=\"95.019915\" y=\"200.22358\"/>\r\n  </clipPath>\r\n  <clipPath id=\"p0f9681c515\">\r\n   <rect height=\"56.745763\" width=\"56.745763\" x=\"163.114831\" y=\"200.22358\"/>\r\n  </clipPath>\r\n  <clipPath id=\"p0176fdff65\">\r\n   <rect height=\"56.745763\" width=\"56.745763\" x=\"231.209746\" y=\"200.22358\"/>\r\n  </clipPath>\r\n  <clipPath id=\"p5cc2e3202b\">\r\n   <rect height=\"56.745763\" width=\"56.745763\" x=\"299.304661\" y=\"200.22358\"/>\r\n  </clipPath>\r\n  <clipPath id=\"p3db4514165\">\r\n   <rect height=\"56.745763\" width=\"56.745763\" x=\"367.399576\" y=\"200.22358\"/>\r\n  </clipPath>\r\n  <clipPath id=\"pd2cf1bf08e\">\r\n   <rect height=\"56.745763\" width=\"56.745763\" x=\"435.494492\" y=\"200.22358\"/>\r\n  </clipPath>\r\n  <clipPath id=\"p19195aa83a\">\r\n   <rect height=\"56.745763\" width=\"56.745763\" x=\"503.589407\" y=\"200.22358\"/>\r\n  </clipPath>\r\n  <clipPath id=\"pa3a28384fe\">\r\n   <rect height=\"56.745763\" width=\"56.745763\" x=\"571.684322\" y=\"200.22358\"/>\r\n  </clipPath>\r\n  <clipPath id=\"p017672c08b\">\r\n   <rect height=\"56.745763\" width=\"56.745763\" x=\"639.779237\" y=\"200.22358\"/>\r\n  </clipPath>\r\n </defs>\r\n</svg>\r\n",
      "image/png": "[encoded data removed]"
     },
     "metadata": {
      "needs_background": "light"
     }
    }
   ],
   "source": [
    "# Visualize some examples from the dataset.\n",
    "samples_per_class = 10\n",
    "classes = [-1, 1]\n",
    "train_imgs = np.reshape(X_train, [-1, 24, 24], order='F')\n",
    "\n",
    "for y, cls in enumerate(classes):\n",
    "    idxs = np.flatnonzero(np.equal(y_train, cls))\n",
    "    idxs = np.random.choice(idxs, samples_per_class, replace=False)\n",
    "    for i, idx in enumerate(idxs):\n",
    "        plt_idx = y * samples_per_class + i + 1\n",
    "        plt.subplot(len(classes), samples_per_class, plt_idx)\n",
    "        plt.imshow(train_imgs[idx])\n",
    "        plt.axis('off')\n",
    "        plt.title(cls)\n",
    "plt.show()"
   ]
  },
  {
   "cell_type": "markdown",
   "metadata": {},
   "source": [
    "## Exercise 1: The SVM loss function [15 Points]\n",
    "\n",
    "Recall the formulation of the SVM optimization problem as follows:\n",
    "\n",
    "\\begin{aligned}\n",
    "& \\min_{w, b}\n",
    "& & \\frac{1}{2}||w||^2 + C\\sum_{i=1}^m \\xi_i \\\\\n",
    "& \\ \\text{ s.t.}\n",
    "& & y^{(i)}(w^Tx^{(i)}+b) \\geq 1-\\xi_i, \\; i = 1, \\ldots, m \\\\\n",
    "& & & \\xi_i \\geq 0, \\; i = 1, \\ldots, m \\\\\n",
    "\\end{aligned}\n",
    "\n",
    "Let $f(x)=w^Tx+b$. The constraints can then be written as $y^{(i)}f(x^{(i)})\\geq 1-\\xi_i$. Together with the constraints $\\xi_i \\geq 0$ this leads to $\\xi_i=\\max(0, 1-y^{(i)}f(x^{(i)}))$. The above constraint optimization problem is therefore equivalent to the following **unconstraint** problem:\n",
    "\n",
    "\\begin{equation}\n",
    "\\min_{w, b} \\frac{\\lambda}{2}||w||^2 + \\frac{1}{m}\\sum_{i=1}^m \\max(0, 1-y^{(i)}f(x^{(i)}))\n",
    "\\end{equation}\n",
    "\n",
    "The first term in this objective is a regularization term (prevents overfitting) and the second term measures the classification loss. Here the parameter $\\lambda=1/C$ is a **hyper-parameter** that controls the relative weight of  both losses.\n",
    "\n",
    "\n",
    "**TODO**: Implement the **unconstrained** objective function for SVM in *svm_loss.py* according to the specifications.\n",
    "\n",
    "***HINT***: Consider again what you would expect with the provided values of w, b and C."
   ]
  },
  {
   "cell_type": "code",
   "execution_count": 38,
   "metadata": {
    "scrolled": false
   },
   "outputs": [
    {
     "output_type": "stream",
     "name": "stdout",
     "text": [
      "SVM-loss with initial parameters:  1.0\n"
     ]
    }
   ],
   "source": [
    "# Test your cost-function\n",
    "w_0 = np.zeros(X_train.shape[1])\n",
    "b_0 = 0.\n",
    "l_0 = svm_loss(w_0, b_0, X_train, y_train, 1.)\n",
    "print('SVM-loss with initial parameters: ', l_0)"
   ]
  },
  {
   "cell_type": "markdown",
   "metadata": {},
   "source": [
    "## Exercise 2: The SVM Gradient [15 Points]\n",
    "\n",
    "**TODO**: Implement the gradient of the above unconstrained objective w.r.t. to the parameters $w$ and $b$. The gradient will be computed on a mini-batch (i.e., a random subset of the training set).\n",
    "\n",
    "**Hint**: Don't worry about the fact that $\\max(0, 1-y^{(i)}f(x^{(i)}))$ is not differentiable at $1-y^{(i)}f(x^{(i)})=0$. Just pick a one-sided gradient (this is called a subgradient for convex functions)."
   ]
  },
  {
   "cell_type": "code",
   "execution_count": 43,
   "metadata": {
    "scrolled": false
   },
   "outputs": [
    {
     "output_type": "error",
     "ename": "TypeError",
     "evalue": "'int' object is not subscriptable",
     "traceback": [
      "\u001b[1;31m---------------------------------------------------------------------------\u001b[0m",
      "\u001b[1;31mTypeError\u001b[0m                                 Traceback (most recent call last)",
      "\u001b[1;32m<ipython-input-43-571e7f10ffa9>\u001b[0m in \u001b[0;36m<module>\u001b[1;34m\u001b[0m\n\u001b[0;32m      4\u001b[0m \u001b[0mw_0\u001b[0m \u001b[1;33m=\u001b[0m \u001b[0mnp\u001b[0m\u001b[1;33m.\u001b[0m\u001b[0mzeros\u001b[0m\u001b[1;33m(\u001b[0m\u001b[1;36m10\u001b[0m\u001b[1;33m)\u001b[0m\u001b[1;33m\u001b[0m\u001b[1;33m\u001b[0m\u001b[0m\n\u001b[0;32m      5\u001b[0m \u001b[0mb_0\u001b[0m \u001b[1;33m=\u001b[0m \u001b[1;36m0.\u001b[0m\u001b[1;33m\u001b[0m\u001b[1;33m\u001b[0m\u001b[0m\n\u001b[1;32m----> 6\u001b[1;33m \u001b[0mprint\u001b[0m\u001b[1;33m(\u001b[0m\u001b[0my\u001b[0m\u001b[1;33m[\u001b[0m\u001b[1;36m1\u001b[0m\u001b[1;33m]\u001b[0m\u001b[1;33m*\u001b[0m\u001b[0mx\u001b[0m\u001b[1;33m[\u001b[0m\u001b[1;36m1\u001b[0m\u001b[1;33m,\u001b[0m\u001b[1;33m:\u001b[0m\u001b[1;33m]\u001b[0m\u001b[1;33m)\u001b[0m\u001b[1;33m\u001b[0m\u001b[1;33m\u001b[0m\u001b[0m\n\u001b[0m\u001b[0;32m      7\u001b[0m \u001b[0mgrad_w\u001b[0m\u001b[1;33m,\u001b[0m \u001b[0mgrad_b\u001b[0m \u001b[1;33m=\u001b[0m \u001b[0msvm_gradient\u001b[0m\u001b[1;33m(\u001b[0m\u001b[0mw_0\u001b[0m\u001b[1;33m,\u001b[0m \u001b[0mb_0\u001b[0m\u001b[1;33m,\u001b[0m \u001b[0mx_\u001b[0m\u001b[1;33m,\u001b[0m \u001b[0my_\u001b[0m\u001b[1;33m,\u001b[0m \u001b[1;36m1.\u001b[0m\u001b[1;33m)\u001b[0m\u001b[1;33m\u001b[0m\u001b[1;33m\u001b[0m\u001b[0m\n\u001b[0;32m      8\u001b[0m \u001b[0mprint\u001b[0m\u001b[1;33m(\u001b[0m\u001b[0mgrad_w\u001b[0m\u001b[1;33m)\u001b[0m\u001b[1;33m\u001b[0m\u001b[1;33m\u001b[0m\u001b[0m\n",
      "\u001b[1;31mTypeError\u001b[0m: 'int' object is not subscriptable"
     ]
    }
   ],
   "source": [
    "# Test your implementation\n",
    "x_ = np.ones([2, 10])\n",
    "y_ = np.array([1, -1])\n",
    "w_0 = np.zeros(10)\n",
    "b_0 = 0.\n",
    "print(y_[1]*x_[1,:])\n",
    "grad_w, grad_b = svm_gradient(w_0, b_0, x_, y_, 1.)\n",
    "print(grad_w)\n",
    "print(grad_b)\n",
    "\n"
   ]
  },
  {
   "cell_type": "markdown",
   "metadata": {},
   "source": [
    "## Exercise 3: The SVM Solver [20 Points]\n",
    "\n",
    "You will implement the **Pegasos** algorithm - a variant of SGD - to solve for the parameters $w$ and $b$. \n",
    "\n",
    "The algorithm was introduced in the following [Paper](http://ttic.uchicago.edu/~nati/Publications/PegasosMPB.pdf) (see Figure 2). It is essentially Stochastic Gradient Descent on mini-batches + a specific choice for the learning rate giving convergence guarantees. The required steps are outlined in **svm_solver.py**. For more details, please refer to the [Paper](http://ttic.uchicago.edu/~nati/Publications/PegasosMPB.pdf).\n",
    "\n",
    "**TODO**: Implement the Pegasos algorithm in **svm_solver.py** according to specs. \n",
    "\n",
    "***HINT***: You know what performance to expect from the previous assignment (maybe you need to tune the hyper-parameter **C**)"
   ]
  },
  {
   "cell_type": "code",
   "execution_count": null,
   "metadata": {
    "scrolled": false
   },
   "outputs": [],
   "source": [
    "# We'll meausure the execution time\n",
    "start = time.time()\n",
    "\n",
    "C = 3.0\n",
    "w, b = svm_solver(X_train, y_train, C, num_iter=30000, num_per_batch=64)\n",
    "\n",
    "exec_time = time.time()-start\n",
    "print('Total exection time: {}s'.format(exec_time))\n",
    "\n",
    "# We can have a look at what theta has learned to recognise as \"face\"\n",
    "plt.imshow(np.reshape(w, [24, 24], order='F'))\n",
    "plt.title('Learned w')\n",
    "plt.show()\n",
    "\n",
    "# Make predictions\n",
    "preds_train = np.ones_like(y_train) - 2 * (np.dot(X_train, w) + b < 0)\n",
    "preds_test = np.ones_like(y_test) - 2 * (np.dot(X_test, w) + b < 0)\n",
    "\n",
    "print('Accuracy train: {}'.format(np.mean(preds_train == y_train)))\n",
    "print('Accuracy test: {}'.format(np.mean(preds_test == y_test)))"
   ]
  },
  {
   "cell_type": "markdown",
   "metadata": {},
   "source": [
    "# Part 2: Multi-Class SVM\n",
    "\n",
    "In this second part of the assignment you will train a multi-class SVM on a dataset of handwritten digits.\n",
    "\n",
    "A seperate (withheld) test set will be used for the evaluation of your classifiers. It is therefore important that you take good care not to overfit and ensure that your models generalize to unseen data.\n",
    "\n",
    "\n",
    "## Setup\n",
    "\n",
    "First load and visualize some of the data:\n"
   ]
  },
  {
   "cell_type": "code",
   "execution_count": null,
   "metadata": {
    "scrolled": false
   },
   "outputs": [],
   "source": [
    "import numpy as np\n",
    "import matplotlib.pyplot as plt\n",
    "\n",
    "classes = range(10)\n",
    "\n",
    "data = np.load('data.npy', encoding='latin1')\n",
    "X = data[()]['X']\n",
    "y = data[()]['y']\n",
    "\n",
    "# Visualize some examples from the dataset.\n",
    "samples_per_class = 5\n",
    "imgs = np.reshape(X, [-1, 16, 16])\n",
    "labels = y\n",
    "\n",
    "for j, cls in enumerate(classes):\n",
    "    idxs = np.flatnonzero(np.equal(labels, cls))\n",
    "    idxs = np.random.choice(idxs, samples_per_class, replace=False)\n",
    "    for i, idx in enumerate(idxs):\n",
    "        plt_idx = j * samples_per_class + i + 1\n",
    "        plt.subplot(samples_per_class, len(classes), plt_idx)\n",
    "        plt.imshow(imgs[idx])\n",
    "        plt.axis('off')\n",
    "        plt.title(cls)\n",
    "plt.show()"
   ]
  },
  {
   "cell_type": "markdown",
   "metadata": {},
   "source": [
    "## Exercise 4: Preparing the data [10 Points]\n",
    "\n",
    "In this exercise you should:\n",
    "* Prepare the data for cross validation (train/test splits)\n",
    "* Preprocess the data for use with the SVM (this can have a **big** effect on the performance!)\n",
    "\n",
    "**NOTE:** You are allowed to use any functions in sklearn for this exercise"
   ]
  },
  {
   "cell_type": "code",
   "execution_count": null,
   "metadata": {},
   "outputs": [],
   "source": [
    "from sklearn import preprocessing\n",
    "\n",
    "X_train = y_train = X_test = y_test = None\n",
    "\n",
    "#######################################################################\n",
    "# TODO:                                                               #\n",
    "# Arrange the data into train and test sets                           #\n",
    "# Be careful about how you split the data:                            #\n",
    "# - If train and test distribution are very different your test       #\n",
    "#   performance will be poor                                          #\n",
    "# - Think about the sizes of the splits: What are good values and how #\n",
    "#   does this affect your train/test performance?                     #\n",
    "#######################################################################\n",
    "\n",
    "pass\n",
    "\n",
    "#######################################################################\n",
    "#                         END OF YOUR CODE                            #\n",
    "#######################################################################\n",
    "\n",
    "\n",
    "def pre_process(x):\n",
    "    #######################################################################\n",
    "    # TODO:                                                               #\n",
    "    # Implement preprocessing of the data before feeding to the SVM.      #\n",
    "    # NOTE: This function will be used to grade the performance on the    #\n",
    "    # held-out test set                                                   #\n",
    "    #######################################################################\n",
    "    \n",
    "    pass\n",
    "    \n",
    "    #######################################################################\n",
    "    #                         END OF YOUR CODE                            #\n",
    "    #######################################################################\n",
    "    return x\n",
    "\n",
    "X_train = pre_process(X_train)\n",
    "X_test = pre_process(X_test)\n",
    "\n",
    "print('Training data shape:', X_train.shape)\n",
    "print('Training labels shape:', y_train.shape)\n",
    "print('Test data shape:', X_test.shape)\n",
    "print('Test labels shape:', y_test.shape)"
   ]
  },
  {
   "cell_type": "markdown",
   "metadata": {},
   "source": [
    "## Exercise 5: Training and evaluating a linear SMV [10 Points]\n",
    "\n",
    "Now its time to train a linear SVM on your training data and evaluate its performance on the test set.\n",
    "\n",
    "You should use [sklearn.svm.LinearSVC](http://scikit-learn.org/stable/modules/generated/sklearn.svm.LinearSVC.html#sklearn.svm.LinearSVC) for training the model. See the documentation for usage, arguments, return values and methods."
   ]
  },
  {
   "cell_type": "code",
   "execution_count": null,
   "metadata": {},
   "outputs": [],
   "source": [
    "from sklearn.svm import LinearSVC\n",
    "\n",
    "def train_linear_SVM(X, y, C, max_iter=100):\n",
    "    \"\"\"\n",
    "    Linear multi-class SVM solver.\n",
    "\n",
    "    Args:\n",
    "        X: Data matrix of shape [num_train, num_features]\n",
    "        y: Labels corresponding to X of size [num_train]\n",
    "        C: Hyper-parameter for SVM\n",
    "        max_iter: Maximum number of iterations\n",
    "\n",
    "    Returns:\n",
    "        lin_clf: The learnt classifier (LinearSVC instance)\n",
    "\n",
    "    \"\"\"\n",
    "    lin_clf = None\n",
    "    print('Solving linear-SVM...')\n",
    "\n",
    "    #######################################################################\n",
    "    # TODO:                                                               #\n",
    "    # Train the SVM using LinearSVC and return the learnt classifier      #\n",
    "    #######################################################################\n",
    "\n",
    "    pass\n",
    "\n",
    "    #######################################################################\n",
    "    #                         END OF YOUR CODE                            #\n",
    "    #######################################################################\n",
    "    return lin_clf\n",
    "\n",
    "C = 5.0\n",
    "lin_clf = train_linear_SVM(X_train, y_train, C)\n",
    "\n",
    "#######################################################################\n",
    "# TODO:                                                               #\n",
    "# Visualize the learnt weights (lin_clf.coef_) for all the classes:   #\n",
    "# - Make a plot with ten figures showing the respective weights for   #\n",
    "#   each of the classes                                               #\n",
    "#######################################################################\n",
    "\n",
    "pass\n",
    "\n",
    "#######################################################################\n",
    "#                         END OF YOUR CODE                            #\n",
    "#######################################################################\n"
   ]
  },
  {
   "cell_type": "markdown",
   "metadata": {},
   "source": [
    "## Exercise 7: Evaluating a multi-class classifier [10 Points]\n",
    "\n",
    "You should now evaluate you learnt classifier. For this you have to:\n",
    "* Compute predictions on the train and test sets\n",
    "* Compute the accuracy of the predictions\n",
    "* Compute the confusion matrix (see [here](https://en.wikipedia.org/wiki/Confusion_matrix) for info)\n",
    "* Answer the question below\n",
    "\n",
    "**Note:** You can make use of sklearn.metrics\n"
   ]
  },
  {
   "cell_type": "code",
   "execution_count": null,
   "metadata": {},
   "outputs": [],
   "source": [
    "from sklearn.metrics import accuracy_score, confusion_matrix\n",
    "\n",
    "def eval_clf(y_pred_train, y_train, y_pred_test, y_test):\n",
    "    #######################################################################\n",
    "    # TODO:                                                               #\n",
    "    # Use the learnt classifier to make predictions on the test set.      #\n",
    "    # Compute the accuracy on train and test sets.                        #\n",
    "    # Compute the confusion matrix on the test set.                       #\n",
    "    #######################################################################\n",
    "\n",
    "    acc_test = acc_train = cm_test = None\n",
    "\n",
    "    #######################################################################\n",
    "    #                         END OF YOUR CODE                            #\n",
    "    #######################################################################\n",
    "    return acc_train, acc_test, cm_test\n",
    "\n",
    "acc_train, acc_test, cm_test = eval_clf(\n",
    "    lin_clf.predict(X_train),\n",
    "    y_train,\n",
    "    lin_clf.predict(X_test),\n",
    "    y_test)\n",
    "print(\"Linear SVM accuracy train: {}\".format(acc_train))\n",
    "print(\"Linear SVM accuracy test: {}\".format(acc_test))\n",
    "print(\"Confusion matrix:\\n%s\" % cm_test)"
   ]
  },
  {
   "cell_type": "markdown",
   "metadata": {},
   "source": [
    "## Question: \n",
    "* Which pair of digits does the classifier confuse most often?\n",
    "\n",
    "***Your Answer:***\n",
    "\n",
    "After comparing some confusion matrices the highest numbers were usually within the rows of 3, 8 and 9 and most notably the pair of 4 and 9 got confused the most often."
   ]
  },
  {
   "cell_type": "markdown",
   "metadata": {},
   "source": [
    "## Exercise 7: Training and evaluating a SMV with Gaussian kernel [10 Points]\n",
    "\n",
    "Now you will train a SVM with Gaussian kernel (also called RBF kernel).\n",
    "\n",
    "You should use [sklearn.svm.SVC](http://scikit-learn.org/stable/modules/generated/sklearn.svm.SVC.html) for training the model. See the documentation for usage, arguments and return values.\n",
    "Experiment with values for the hyper-parameters $C$ and $\\gamma$ and answer the question below."
   ]
  },
  {
   "cell_type": "code",
   "execution_count": null,
   "metadata": {},
   "outputs": [],
   "source": [
    "from sklearn.svm import SVC\n",
    "from sklearn.metrics import accuracy_score\n",
    "\n",
    "\n",
    "def train_gaussian_SVM(X, y, C, gamma, max_iter=100):\n",
    "    \"\"\"\n",
    "    Multi-class SVM solver with Gaussian kernel.\n",
    "\n",
    "    Args:\n",
    "        X: Data matrix of shape [num_train, num_features]\n",
    "        y: Labels corresponding to X of size [num_train]\n",
    "        C: Hyper-parameter for SVM\n",
    "        max_iter: Maximum number of iterations\n",
    "\n",
    "    Returns:\n",
    "        w: The value of the parameters after logistic regression\n",
    "\n",
    "    \"\"\"\n",
    "    print('Solving RBF-SVM: This can take a while...')\n",
    "    \n",
    "    #######################################################################\n",
    "    # TODO:                                                               #\n",
    "    # Train the SVM using LinearSVC and return the learnt classifier      #\n",
    "    #######################################################################\n",
    "\n",
    "    clf_rbf = None\n",
    "\n",
    "    #######################################################################\n",
    "    #                         END OF YOUR CODE                            #\n",
    "    #######################################################################\n",
    "    return clf_rbf\n",
    "\n",
    "C = 100.0\n",
    "gamma = 10.0\n",
    "clf_rbf = train_gaussian_SVM(X_train, y_train, C, gamma)\n",
    "\n",
    "acc_train, acc_test, cm_test = eval_clf(\n",
    "    clf_rbf.predict(X_train),\n",
    "    y_train,\n",
    "    clf_rbf.predict(X_test),\n",
    "    y_test)\n",
    "print(\"RBF SVM accuracy train: {}\".format(acc_train))\n",
    "print(\"RBF SVM accuracy test: {}\".format(acc_test))\n",
    "print(\"Confusion matrix:\\n%s\" % cm_test)"
   ]
  },
  {
   "cell_type": "markdown",
   "metadata": {},
   "source": [
    "## Exercise 8: Changing data size [5 Points]"
   ]
  },
  {
   "cell_type": "markdown",
   "metadata": {},
   "source": [
    "Let us also investigate how the amount of the data influence the performance of the model. You will extract a randomly chosen part of the training data with reduced size to train the model on."
   ]
  },
  {
   "cell_type": "code",
   "execution_count": null,
   "metadata": {},
   "outputs": [],
   "source": [
    "def extract_data_part(X, y, part):    \n",
    "    #######################################################################\n",
    "    # TODO:                                                               #\n",
    "    # Randomly choose part of the data with size part*X.shape[0]          #\n",
    "    # Return X_part, y_part                                               #\n",
    "    #######################################################################\n",
    "\n",
    "    X_part = y_part = None\n",
    "    \n",
    "    #######################################################################\n",
    "    #                         END OF YOUR CODE                            #\n",
    "    #######################################################################\n",
    "    \n",
    "    return X_part, y_part\n",
    "\n",
    "\n",
    "part = 0.1\n",
    "X_train_part, y_train_part = extract_data_part(X_train, y_train, part)\n",
    "X_train_part = pre_process(X_train_part)\n",
    "\n",
    "C = 100.0\n",
    "gamma = 10.0\n",
    "clf_rbf_part = train_gaussian_SVM(X_train_part, y_train_part, C, gamma)\n",
    "\n",
    "acc_train, acc_test, cm_test = eval_clf(\n",
    "    clf_rbf_part.predict(X_train_part),\n",
    "    y_train_part,\n",
    "    clf_rbf_part.predict(X_test),\n",
    "    y_test)\n",
    "print(\"RBF SVM accuracy train: {}\".format(acc_train))\n",
    "print(\"RBF SVM accuracy test: {}\".format(acc_test))\n",
    "print(\"Confusion matrix:\\n%s\" % cm_test)"
   ]
  },
  {
   "cell_type": "markdown",
   "metadata": {},
   "source": [
    "The model is apparently overfitted. Seems like the proper regularization could help. Try to tune the hyperparameters $C$ and $\\gamma$ to make the performance of the model as close to the one trained on the whole dataset as possible."
   ]
  },
  {
   "cell_type": "markdown",
   "metadata": {},
   "source": [
    "Now let's change the data size and plot the accuracy of the model depending on the size of the dataset."
   ]
  },
  {
   "cell_type": "code",
   "execution_count": null,
   "metadata": {},
   "outputs": [],
   "source": [
    "train_accs = list()\n",
    "test_accs = list()\n",
    "\n",
    "part_range = [0.1, 0.3, 0.5, 0.7, 1.0]\n",
    "for part in part_range:\n",
    "    print(\"Training the model for {}% of the train data\".format(part * 100))\n",
    "    #######################################################################\n",
    "    # TODO:                                                               #\n",
    "    # Extract the corresponding part of the training data                 #\n",
    "    # Train the model and evaluate train and test accuracies              #\n",
    "    #######################################################################\n",
    "\n",
    "    acc_train = acc_test = None\n",
    "    \n",
    "    #######################################################################\n",
    "    #                         END OF YOUR CODE                            #\n",
    "    #######################################################################\n",
    "    \n",
    "    train_accs.append(acc_train)\n",
    "    test_accs.append(acc_test)"
   ]
  },
  {
   "cell_type": "code",
   "execution_count": null,
   "metadata": {},
   "outputs": [],
   "source": [
    "plt.figure(figsize=(10, 5))\n",
    "plt.title(\"Accuracy depending on data size\", fontsize=15)\n",
    "plt.plot(part_range, train_accs, label=\"train_acc\")\n",
    "plt.plot(part_range, test_accs, label=\"test_acc\")\n",
    "plt.xticks(part_range, part_range)\n",
    "plt.legend(fontsize=15)\n",
    "plt.show()"
   ]
  },
  {
   "cell_type": "markdown",
   "metadata": {},
   "source": [
    "## Question:\n",
    "* How do the hyper-parameters influence the classifier? What happens for extreme values of the hyper-parameters?\n",
    "\n",
    "***Your Answer:***\n",
    "\n",
    "* What can you say about the influence of the data size on the performance of the model?\n",
    "\n",
    "***Your Answer:***"
   ]
  },
  {
   "cell_type": "markdown",
   "metadata": {},
   "source": [
    "## Exercise 9: Questions [10 Points]\n",
    "\n",
    "Answer the following questions and justify your answers:\n",
    "\n",
    "* How does your implementation of the linear SVM (Pegasos) compare to the classifiers of the previous assignment? Which method is the most accurate? Which one the fastest to train? Which one is the most versatile?\n",
    "\n",
    "\t***Your Answer:***\n",
    "\n",
    "\n",
    "* Linear SVM vs. Gaussian Kernel SVM: Give advantages and disadvantages of both approaches. \n",
    "\n",
    "\t***Your Answer:***\n",
    "\n",
    "\n",
    "* Linear SVM vs. Gaussian Kernel SVM: In what setting would you pick one method over the other? Answer in terms of number of training examples $m_{train}$ and feature dimension $d$\n",
    "\n",
    "\t***Your Answer:***"
   ]
  },
  {
   "cell_type": "markdown",
   "metadata": {},
   "source": [
    "## Bonus: Tune those Hyper-Parameters! [10 Points]\n",
    "\n",
    "Perform hyper-parameter tuning for the two multi-class SVMs. Your performance will be measured on a held-out test set and the **10% best scoring submissions get 5 bonus points** (5 points for linear-SVM and 5 points for RBF-SVM). \n",
    "\n",
    "Set the best parameter values above. The performance will be **tested with max_iter=100**!\n",
    "\n",
    "Additional 5 points can be gained by demonstrating a principled approach for hyper-parameter search below. For ideas refer to:\n",
    "http://scikit-learn.org/stable/modules/grid_search.html\n"
   ]
  },
  {
   "cell_type": "code",
   "execution_count": null,
   "metadata": {},
   "outputs": [],
   "source": [
    "# Your optional hyper-parameter tuning code goes here..."
   ]
  }
 ],
 "metadata": {
  "anaconda-cloud": {},
  "kernelspec": {
   "display_name": "Python 3",
   "language": "python",
   "name": "python3"
  },
  "language_info": {
   "codemirror_mode": {
    "name": "ipython",
    "version": 3
   },
   "file_extension": ".py",
   "mimetype": "text/x-python",
   "name": "python",
   "nbconvert_exporter": "python",
   "pygments_lexer": "ipython3",
   "version": "3.6.10-final"
  }
 },
 "nbformat": 4,
 "nbformat_minor": 1
}