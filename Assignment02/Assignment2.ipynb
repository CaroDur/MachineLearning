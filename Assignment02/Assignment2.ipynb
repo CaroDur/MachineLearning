{
 "cells": [
  {
   "cell_type": "markdown",
   "metadata": {},
   "source": [
    "# Assignment 2: Support Vector Machines\n",
    "\n",
    "In this assignment you will:\n",
    "* Implement a linear SVM via stochastic gradient descent\n",
    "* Do multi-class handwritten digit classification with off-the-shelf SVM solvers (with kernel functions)\n",
    "* Tune model hyper-parameters to achieve good generalisation"
   ]
  },
  {
   "cell_type": "markdown",
   "metadata": {},
   "source": [
    "# Part 1: Implement a linear SVM\n",
    "\n",
    "## Setup\n",
    "\n",
    "First import the required packages and do some setup:"
   ]
  },
  {
   "cell_type": "code",
   "execution_count": 68,
   "metadata": {},
   "outputs": [
    {
     "output_type": "stream",
     "name": "stdout",
     "text": [
      "The autoreload extension is already loaded. To reload it, use:\n  %reload_ext autoreload\n"
     ]
    }
   ],
   "source": [
    "import time\n",
    "import numpy as np\n",
    "import matplotlib.pyplot as plt\n",
    "from scipy.io import loadmat, savemat\n",
    "from sklearn.model_selection import train_test_split\n",
    "from assignment2 import svm_loss, svm_gradient, svm_solver\n",
    "\n",
    "# Set default parameters for plots\n",
    "plt.rcParams['figure.figsize'] = (12.0, 6.0)\n",
    "plt.rcParams['image.interpolation'] = 'nearest'\n",
    "plt.rcParams['image.cmap'] = 'gray'\n",
    "\n",
    "%load_ext autoreload\n",
    "%autoreload 2"
   ]
  },
  {
   "cell_type": "markdown",
   "metadata": {},
   "source": [
    "Now load the face dataset. The labels are set to **-1 for non-face and 1 for face**."
   ]
  },
  {
   "cell_type": "code",
   "execution_count": 69,
   "metadata": {},
   "outputs": [],
   "source": [
    "# Load the dataset\n",
    "data = loadmat('faces.mat')\n",
    "labels = np.squeeze(data['Labels'])\n",
    "data = data['Data']"
   ]
  },
  {
   "cell_type": "markdown",
   "metadata": {},
   "source": [
    "Divide the dataset into train and test sets."
   ]
  },
  {
   "cell_type": "code",
   "execution_count": 70,
   "metadata": {
    "scrolled": true
   },
   "outputs": [
    {
     "output_type": "stream",
     "name": "stdout",
     "text": [
      "Training data shape:  (13882, 576)\nTraining labels shape:  (13882,)\nTest data shape:  (5950, 576)\nTest labels shape:  (5950,)\n"
     ]
    }
   ],
   "source": [
    "X_train, X_test, y_train, y_test = train_test_split(data, labels, test_size=0.3)\n",
    "\n",
    "# As a sanity check, we print out the size of the training and test data.\n",
    "print('Training data shape: ', X_train.shape)\n",
    "print('Training labels shape: ', y_train.shape)\n",
    "print('Test data shape: ', X_test.shape)\n",
    "print('Test labels shape: ', y_test.shape)"
   ]
  },
  {
   "cell_type": "markdown",
   "metadata": {},
   "source": [
    "Visualize some examples to check that the data is fine:"
   ]
  },
  {
   "cell_type": "code",
   "execution_count": 71,
   "metadata": {},
   "outputs": [
    {
     "output_type": "display_data",
     "data": {
      "text/plain": "<Figure size 864x432 with 20 Axes>",
      "image/svg+xml": "<?xml version=\"1.0\" encoding=\"utf-8\" standalone=\"no\"?>\r\n<!DOCTYPE svg PUBLIC \"-//W3C//DTD SVG 1.1//EN\"\r\n  \"http://www.w3.org/Graphics/SVG/1.1/DTD/svg11.dtd\">\r\n<!-- Created with matplotlib (https://matplotlib.org/) -->\r\n<svg height=\"280.847467pt\" version=\"1.1\" viewBox=\"0 0 703.725 280.847467\" width=\"703.725pt\" xmlns=\"http://www.w3.org/2000/svg\" xmlns:xlink=\"http://www.w3.org/1999/xlink\">\r\n <defs>\r\n  <style type=\"text/css\">\r\n*{stroke-linecap:butt;stroke-linejoin:round;}\r\n  </style>\r\n </defs>\r\n <g id=\"figure_1\">\r\n  <g id=\"patch_1\">\r\n   <path d=\"M 0 280.847467 \r\nL 703.725 280.847467 \r\nL 703.725 0 \r\nL 0 0 \r\nz\r\n\" style=\"fill:none;\"/>\r\n  </g>\r\n  <g id=\"axes_1\">\r\n   <g clip-path=\"url(#p01b9e422f1)\">\r\n    <image height=\"57\" id=\"imageb9518906fe\" transform=\"scale(1 -1)translate(0 -57)\" width=\"57\" x=\"26.925\" xlink:href=\"data:image/png;base64,\r\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\" y=\"-22.063888\"/>\r\n   </g>\r\n   <g id=\"text_1\">\r\n    <!-- -1 -->\r\n    <defs>\r\n     <path d=\"M 4.890625 31.390625 \r\nL 31.203125 31.390625 \r\nL 31.203125 23.390625 \r\nL 4.890625 23.390625 \r\nz\r\n\" id=\"DejaVuSans-45\"/>\r\n     <path d=\"M 12.40625 8.296875 \r\nL 28.515625 8.296875 \r\nL 28.515625 63.921875 \r\nL 10.984375 60.40625 \r\nL 10.984375 69.390625 \r\nL 28.421875 72.90625 \r\nL 38.28125 72.90625 \r\nL 38.28125 8.296875 \r\nL 54.390625 8.296875 \r\nL 54.390625 0 \r\nL 12.40625 0 \r\nz\r\n\" id=\"DejaVuSans-49\"/>\r\n    </defs>\r\n    <g transform=\"translate(49.315694 16.318125)scale(0.12 -0.12)\">\r\n     <use xlink:href=\"#DejaVuSans-45\"/>\r\n     <use x=\"36.083984\" xlink:href=\"#DejaVuSans-49\"/>\r\n    </g>\r\n   </g>\r\n  </g>\r\n  <g id=\"axes_2\">\r\n   <g clip-path=\"url(#pd2bbe3f27c)\">\r\n    <image height=\"57\" id=\"image87b45c9837\" transform=\"scale(1 -1)translate(0 -57)\" width=\"57\" x=\"95.019915\" xlink:href=\"data:image/png;base64,\r\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\" y=\"-22.063888\"/>\r\n   </g>\r\n   <g id=\"text_2\">\r\n    <!-- -1 -->\r\n    <g transform=\"translate(117.410609 16.318125)scale(0.12 -0.12)\">\r\n     <use xlink:href=\"#DejaVuSans-45\"/>\r\n     <use x=\"36.083984\" xlink:href=\"#DejaVuSans-49\"/>\r\n    </g>\r\n   </g>\r\n  </g>\r\n  <g id=\"axes_3\">\r\n   <g clip-path=\"url(#pffb2f35afb)\">\r\n    <image height=\"57\" id=\"image15c91da130\" transform=\"scale(1 -1)translate(0 -57)\" width=\"57\" x=\"163.114831\" xlink:href=\"data:image/png;base64,\r\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\" y=\"-22.063888\"/>\r\n   </g>\r\n   <g id=\"text_3\">\r\n    <!-- -1 -->\r\n    <g transform=\"translate(185.505524 16.318125)scale(0.12 -0.12)\">\r\n     <use xlink:href=\"#DejaVuSans-45\"/>\r\n     <use x=\"36.083984\" xlink:href=\"#DejaVuSans-49\"/>\r\n    </g>\r\n   </g>\r\n  </g>\r\n  <g id=\"axes_4\">\r\n   <g clip-path=\"url(#p7dff453cb2)\">\r\n    <image height=\"57\" id=\"image2901d0cd9d\" transform=\"scale(1 -1)translate(0 -57)\" width=\"57\" x=\"231.209746\" xlink:href=\"data:image/png;base64,\r\niVBORw0KGgoAAAANSUhEUgAAADkAAAA5CAYAAACMGIOFAAAABHNCSVQICAgIfAhkiAAABDVJREFUaIHtmrsvdU0Uxn+H7Z6ICInEJaEQiRBRaFwKrUKh1PqjVGqNUqMQhUSjJAoiIiJCJEjcb19x3mfO2tsY+zjewjvf0+zJrNlzW2vWbaYAvAPU1taSRaFQAOD9/d3VjY6OAjA4OOjqOjs7AXh8fARgcXHR0a6vr1N91tTUfBjHN2b260NVVVWwr7u7u2K7YKt/BIkKLy8vrrKhoSHV6PX11ZXPz88BmJ+fd3Wtra2pPuz/z8/PAExPTwOwurr6YRI+jiRJcWpvb2+fTj5ES/Wfq9UvRxSLTKqrqz9UWtEFsG1OT08B2N7ednWzs7MA3NzcFDtN3Cmgu7sbgMnJSQDW19cd7f7+/kN7Ia8oZuFTVHFwsr6+Hkgrl4eHh1Qjq/alJDY3N13d+Pg4AE1NTUB6N4eGhgA4OztL/Q8l0yTTY8fymbRy8fT0VByz4p5+AaJYZCI7ZkUs65VYmsqHh4euTuWRkREgrahub2+Bki2VkgJYXl4G0iIshaN5hWA9MR8k8nFwUrthFY/PrAjaabv7WWlobGx0tL29PQDGxsYAWFpacrSVlZUP48l8WWX0XWgecXBSBbubIVkXx62xvrq6AkDmqLe319E2NjaA0vk4Pj52NJkqn7mQXghFIV9B0hAFJ6NYpNeEWMWRhUTZ+rcKv/QdHh52NHlGExMTQEkRWcgzgdKxkehXAq0tDk7W1dUBaUWiHfjK2ApbW1tAiQs9PT2OJqUyNTUFwMLCgqOFUiGWu3ngi1q0tjg4Ka75Yrq86ltx5NraGgBtbW2OpphRrt/u7q6jiZPWhSvHZNi2ck5s3f9RyL+GxOf1h0xICEp1nJycuDqZmp2dHSAdkGtMO7bELpsx/A6kOOPg5E92dnR0VOzUKDFxThxSigTyxYw/gSg4GcUiE4mP9TBUDuU+fd6Q/E37n5TY3NwcADMzM8EJVRJafYY4OKmCDZqzede8EAd96RN5N319fcE+pKB8wXm50JhxcfJvIRvRyM+FEsdtEi2LvJGQYM90VM5AFItM5FtaNkuMvrqT/wzWk8mK6/7+vqM1NzcD6XcF2fnkNSnq34q3/o2CkwX+vP7Im8jSTvsUgi/JlW3X3t7uyr4suVVMlSLODHpeOAPruYlS9OG7IdO5s+evv78fSHNerqHSmz+BKDgZxSLLFleJpM1wS9zkuVgPRmXfFaGeqx0cHLi6gYEBAC4vL4HwNeJXiOrCp2wTonY2xSHFo+jFOgMh31PSYPO0Ktv8bDmwUYvmGAUno1hk4hO/PBc+Pm/FFzK5FxiZYNiO09LS4uokrmpfyduBuC58fNzKXptVklzKRhXWJEhJyFwAdHV1FSf2R7JC0uSbl61zOd9vzfyXwWtC/iZ8V4T2nHZ0dABwcXEBpH1k378hRPUGPYpFJj4xLfewh6C+QkrCiqFCsZ88PlFw8j8v+93uQI2GBQAAAABJRU5ErkJggg==\" y=\"-22.063888\"/>\r\n   </g>\r\n   <g id=\"text_4\">\r\n    <!-- -1 -->\r\n    <g transform=\"translate(253.60044 16.318125)scale(0.12 -0.12)\">\r\n     <use xlink:href=\"#DejaVuSans-45\"/>\r\n     <use x=\"36.083984\" xlink:href=\"#DejaVuSans-49\"/>\r\n    </g>\r\n   </g>\r\n  </g>\r\n  <g id=\"axes_5\">\r\n   <g clip-path=\"url(#p21f0cb5b16)\">\r\n    <image height=\"57\" id=\"image7a7f1d28e5\" transform=\"scale(1 -1)translate(0 -57)\" width=\"57\" x=\"299.304661\" xlink:href=\"data:image/png;base64,\r\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\" y=\"-22.063888\"/>\r\n   </g>\r\n   <g id=\"text_5\">\r\n    <!-- -1 -->\r\n    <g transform=\"translate(321.695355 16.318125)scale(0.12 -0.12)\">\r\n     <use xlink:href=\"#DejaVuSans-45\"/>\r\n     <use x=\"36.083984\" xlink:href=\"#DejaVuSans-49\"/>\r\n    </g>\r\n   </g>\r\n  </g>\r\n  <g id=\"axes_6\">\r\n   <g clip-path=\"url(#p994ea925c4)\">\r\n    <image height=\"57\" id=\"imageefc1f510a4\" transform=\"scale(1 -1)translate(0 -57)\" width=\"57\" x=\"367.399576\" xlink:href=\"data:image/png;base64,\r\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\" y=\"-22.063888\"/>\r\n   </g>\r\n   <g id=\"text_6\">\r\n    <!-- -1 -->\r\n    <g transform=\"translate(389.79027 16.318125)scale(0.12 -0.12)\">\r\n     <use xlink:href=\"#DejaVuSans-45\"/>\r\n     <use x=\"36.083984\" xlink:href=\"#DejaVuSans-49\"/>\r\n    </g>\r\n   </g>\r\n  </g>\r\n  <g id=\"axes_7\">\r\n   <g clip-path=\"url(#p3da6f86602)\">\r\n    <image height=\"57\" id=\"image1e7d951469\" transform=\"scale(1 -1)translate(0 -57)\" width=\"57\" x=\"435.494492\" xlink:href=\"data:image/png;base64,\r\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\" y=\"-22.063888\"/>\r\n   </g>\r\n   <g id=\"text_7\">\r\n    <!-- -1 -->\r\n    <g transform=\"translate(457.885185 16.318125)scale(0.12 -0.12)\">\r\n     <use xlink:href=\"#DejaVuSans-45\"/>\r\n     <use x=\"36.083984\" xlink:href=\"#DejaVuSans-49\"/>\r\n    </g>\r\n   </g>\r\n  </g>\r\n  <g id=\"axes_8\">\r\n   <g clip-path=\"url(#p91331c5dc4)\">\r\n    <image height=\"57\" id=\"image97c20c1ed1\" transform=\"scale(1 -1)translate(0 -57)\" width=\"57\" x=\"503.589407\" xlink:href=\"data:image/png;base64,\r\niVBORw0KGgoAAAANSUhEUgAAADkAAAA5CAYAAACMGIOFAAAABHNCSVQICAgIfAhkiAAABL1JREFUaIHtmrtKJU0Uhb+j7f0eCIqgvoK5ryGY+hC+hqCRoYmRiiAGioGIoSJiIoiJqKB4v9/PmcBZ1bvrlI7D7/zMnDo76Wbv6uqqWqv2pbpz/f39BYC6ujokun98fATg+fnZ2S4uLgCoqqpyOrW7v78HIJ/P85G8vr4WPffy8uJ0uVwu0397e3vRuCTd3d3uvqurC4CKigqnOzk5edd9OJoSkuT8/ByA5uZmpxQiPqIASZIAcHl56XRCulAoAFm0JNK9vb05ne6FHqRI6KrxAdTW1gLQ19cHQG9vr7OJYUdHR04nNkSBZBSTTEQLUQ3g7u4uc7WOQRSzlJRdOlHa7xey1BSdbHufwtame73n5ubG2Z6enorG9fDwAMSCpNy9VgKyyEGKKKThwYYV60wgu5pCUlfbt5CxOp8NlgkNDQ1AGhq2t7edrb6+PnO1fUSBZBSTTKqrq4EsLXxnYTe/NrOlmO+8Pst4rFjK++/WO21fV1dXAJydnQHQ2NjobIrtNt53dHS8j+9Lo/nHJamsrARShCDd/FpFtbFic0Stvty+74iszYrvlGy7UIYkka6mpsbp5JRsdibk40BS+alFUgj6iEIYVYmfw9o+hFAINcsKidrZ92mf6jlrk66pqcnp2tra3vv/cMQlJFFMMlH5Yl3v7e0tkG5imw2JkpZionMog5GIfp9RE4rzWbtV1M4vniENIQovmbEWtS5BSQYGBgCYnp4uMgoR66q1sqGQIMQtWkJG7S0yIbTkTHS171F7l5Oa9yhntccyCjVxIDk0NARkU6zJyUkgRdDaQkFXK6YVtgHcT/HsSiu8hPaYG6BJKfVsKEEQqjasqP8okIxikrl8Pl+ALP22trYAGB8fB7InYCpYrasWpeR4QpRR/5aucmy2vWgXKpr9vNbSXI6npaXF6aJyPA7JUD2ps9XZ2Vlnm5qaAuD4+LioM2X9oTCh1b++vi6yWXSFTiih8PNm1cKQ1pbWUbmQVtRTCUoUk3R0DUnouF/H9svLy063uLgIwO7uLgAHBwfO5ue1ts9QhqQ4HHJiyrPlxCw1lXvbDMmVch9NsJQkV/jpZfzDq1+JbS8HpdAzPz/vbKurq0B6dmsrGqFqz3WFpHQWSTkXFfjWYQlJWzTHieR/Ee07dWVz3Z2dHSBFdG5uztn29vaAtBa0fQgF+71DgV71rt1/stmPtkI1CiSjmOS30NWXUJfS6YswpA5qaWnJ6dbW1oDUudj2oqR0CimQOizreGQvI/lV+Z0ubFtVCTasbG5uAmnhPjMz42xCUjmyFeW69kBOuW0Zye+Ur75G7YTu2NiYs42OjgJpGnh6eupsCmOtra1OF9WejGKSya+bfI+Ezmk/ExXlCwsLTqfsR2HC5rWitz3J02ljGcn/S6xT2t/fB2BwcBCA9fV1Z1MVourFPifUbAgp//1RavJX0NUeiQwPDwOwsbFR1E5Fskoz62REXZvPdnZ2AmUkv0c+y3SE4MrKitPpgEwhJ/TZUEW5ZYDOa0MfbctI/gmxyKpmHBkZcTohof0WCvhC2f4s2NPTA2T/0lLdGQWSUUzyj9M19JOSZGJiAoDDw8N0QN7/AJau/m9q9mROmY49Lonq090PMQbXV6AQZ1YAAAAASUVORK5CYII=\" y=\"-22.063888\"/>\r\n   </g>\r\n   <g id=\"text_8\">\r\n    <!-- -1 -->\r\n    <g transform=\"translate(525.980101 16.318125)scale(0.12 -0.12)\">\r\n     <use xlink:href=\"#DejaVuSans-45\"/>\r\n     <use x=\"36.083984\" xlink:href=\"#DejaVuSans-49\"/>\r\n    </g>\r\n   </g>\r\n  </g>\r\n  <g id=\"axes_9\">\r\n   <g clip-path=\"url(#p250db29716)\">\r\n    <image height=\"57\" id=\"image8c0506f244\" transform=\"scale(1 -1)translate(0 -57)\" width=\"57\" x=\"571.684322\" xlink:href=\"data:image/png;base64,\r\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\" y=\"-22.063888\"/>\r\n   </g>\r\n   <g id=\"text_9\">\r\n    <!-- -1 -->\r\n    <g transform=\"translate(594.075016 16.318125)scale(0.12 -0.12)\">\r\n     <use xlink:href=\"#DejaVuSans-45\"/>\r\n     <use x=\"36.083984\" xlink:href=\"#DejaVuSans-49\"/>\r\n    </g>\r\n   </g>\r\n  </g>\r\n  <g id=\"axes_10\">\r\n   <g clip-path=\"url(#p0ce57cf596)\">\r\n    <image height=\"57\" id=\"image302ec90011\" transform=\"scale(1 -1)translate(0 -57)\" width=\"57\" x=\"639.779237\" xlink:href=\"data:image/png;base64,\r\niVBORw0KGgoAAAANSUhEUgAAADkAAAA5CAYAAACMGIOFAAAABHNCSVQICAgIfAhkiAAABoxJREFUaIHlmsmPjU0Uxn+Xa2hTm2cJrWOMOTFuiOiNkOjYdBrNwkasLAiW/gZ/AYkFIdE2JGKI0MQYrAgiZtHm7jbeb9Hfc+rUfevrb99Vm759zvtWvVXPqXOec6pKra2tFYBfv36hViqVAHj79i0Ao0aNMl2fPn2ivwADBgwAoG/fvtH/Xvbs2TMAWlpa6Kmp3+3btwNw7tw5002ePDnS1dXVmW7NmjUAvHv3zmRr167t7rPHEXtJK0+cOBGAP3/+mFC/v337BgQ0IKy00Ab4/ft39F65XDad3p01axYQo9zV1VXoS++OGzcOgCVLlphu4MCB0ce/fv3afn/+/BmAsWPHmqy5ubn7mwvT7oUti0mWL126BMC0adNMqN9yOGPGjDGdTMw7qp8/fwLw9+/fwgCSyWwXLVpkuqtXrwKxudbW1gLBvO/fv2+6qVOnRn21t7eb7ujRowDs2LHDZJs2bQJyQfL69esAfPnyxYTa9C9fvgRgxIgRptNK+1apVIDggL5//246oSTkV6xYYbpr164V+ho6dCgAo0ePBmDLli2mu3PnTtTXsGHDTHfo0CEApkyZYjJZZBZIZjHJUk1NTQWCqUFwNHISM2bMMN3s2bOBOK7OnTsXCDFK5uv7lYk9evTIdE1NTYUPEos5cuQIADNnzjTd6dOnAXjz5g0Ac+bMMd2pU6cA6OzsNNmyZcuAXJBsaGioANy9e9eEYjpy/x61pUuXAjBv3jyTTZ8+HQgOyjsqWYGYjMINwMqVK4F49cePHw/AggULADh8+LDpnj59CsDJkyeBYEEAw4cPB+DFixcmE0PKA8m2trYKwK1bt0x4+fJlAC5evAjA169fTSdUPZ/VPtLK1tfXF3RCUPsEYPfu3QC0tbWZTIgvXrwYiP3Bhg0bAHj48GH3xzsSIaLgCYn2bBZIZjFJS7XEciAkm+/fvwdip3TixAkgmAwEliHXfu/ePdOJ/86fPx8IKRGEJLhfv34mU8iRI7lw4YLptB20VXw40jd4FiUnlgeS2rw+0RUiQlkrDrB+/XoAPn36ZLKbN28CcPv27cIASrKPHTsGxE5MKHvyIMchDuufl2UpfHnnp+/xIUR95YGkEPSuVzlj//79gfRK+2xEe3j16tVAKFoBXLlyBQi0zqOtzMf3X10oGzx4sOm0d9WXwgaEAtakSZNMpiwlCySzmGSpvb29ArEjUbLs65rVLVXq8GanJoYkE/PljDNnzgBw9uxZk8m5KOH1DGnhwoUAPH78GICtW7ea7vnz5wA8ePDAZKrFZoFkWavvA6v4oly0r5breY9kdbHKF7nkvAYNGgSELAZg+fLlQCAKAHv37gVCxrFz507TVYcjXy3ftWsXABMmTDDZq1evut9Lz713tSwmaamWr3yJB8oMU6bpnYyci3inZyLVzsibvvryTm/VqlVAYDq+urdx40YA9u/fX+jr4MGDQJyayeSzQLIst5xy/1opj6TQ8oWvnp5XS/UvxFVjBVi3bh0Ara2tQODFEJiVyi3eWeo5j+SQIUO6v6swci9spc7OzgrEpQQh4jMTNaH048cPkylkCC1f+FK/KSRT+/vGjRtAqJz7wpd47J49e4A4d1T+qQIYZLYns5hkqaurqwKxySil8aFATaYoU4D49BjiNMybbvU4+u23in43NDQUxuno6ADCNtLRHIQQKN4NoXSSF5JJ5b+r6ldazSOi1dORnUoXEJzLyJEjC++lmp7XkeK2bdsK36OKu+fIqXqwxsoDyY6OjsLSasW0qqlQknpeZygfP340nbIPlVR86FGhzBML9SVk9u3bZ7rz589H42iPQvALvv+sCllZTNIYj+ebMhlBL/OAwDNTJlx9dwBCDVfP19TUmE5m7SvoOvZLZSibN28GQm3VO0Q5o1TVMQ8kFUJ80FYo0Ep71ISur3nKbad4qmTKD33JQo7HH8KqkCVCIU4KgRg0NjZGz0KwHs91swohWUyy9OTJk0KqJRORk0jdiPSXm3Q2r1QoxWpSPFW3HD1z0RGijvi8KWtbaPscOHDAdMePHy/0r5YHkqkQ4gtEEK+ObWb3jFDVCvtDmmr25Jv6kKuH4Eyk8/dXNY4uDvpwpCtpKptAqKrnheT/5Xn2Qg+ZiRDxZMBnJP/1XkqvPemJiPakbozpjrx/3l8LsBOAHkfsJS2LSfbIXVNOQyaQChPVaRKEdEjOKMV5U44ttWUUTj58+ADEnFf3D/ydATG3LJD8B/dRSfyPTpcpAAAAAElFTkSuQmCC\" y=\"-22.063888\"/>\r\n   </g>\r\n   <g id=\"text_10\">\r\n    <!-- -1 -->\r\n    <g transform=\"translate(662.169931 16.318125)scale(0.12 -0.12)\">\r\n     <use xlink:href=\"#DejaVuSans-45\"/>\r\n     <use x=\"36.083984\" xlink:href=\"#DejaVuSans-49\"/>\r\n    </g>\r\n   </g>\r\n  </g>\r\n  <g id=\"axes_11\">\r\n   <g clip-path=\"url(#pce4edade14)\">\r\n    <image height=\"57\" id=\"image54150976c5\" transform=\"scale(1 -1)translate(0 -57)\" width=\"57\" x=\"26.925\" xlink:href=\"data:image/png;base64,\r\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\" y=\"-199.969342\"/>\r\n   </g>\r\n   <g id=\"text_11\">\r\n    <!-- 1 -->\r\n    <g transform=\"translate(51.480381 194.22358)scale(0.12 -0.12)\">\r\n     <use xlink:href=\"#DejaVuSans-49\"/>\r\n    </g>\r\n   </g>\r\n  </g>\r\n  <g id=\"axes_12\">\r\n   <g clip-path=\"url(#pb985f4a163)\">\r\n    <image height=\"57\" id=\"image855bd4606b\" transform=\"scale(1 -1)translate(0 -57)\" width=\"57\" x=\"95.019915\" xlink:href=\"data:image/png;base64,\r\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\" y=\"-199.969342\"/>\r\n   </g>\r\n   <g id=\"text_12\">\r\n    <!-- 1 -->\r\n    <g transform=\"translate(119.575297 194.22358)scale(0.12 -0.12)\">\r\n     <use xlink:href=\"#DejaVuSans-49\"/>\r\n    </g>\r\n   </g>\r\n  </g>\r\n  <g id=\"axes_13\">\r\n   <g clip-path=\"url(#pdec73a7563)\">\r\n    <image height=\"57\" id=\"image0e4459719b\" transform=\"scale(1 -1)translate(0 -57)\" width=\"57\" x=\"163.114831\" xlink:href=\"data:image/png;base64,\r\niVBORw0KGgoAAAANSUhEUgAAADkAAAA5CAYAAACMGIOFAAAABHNCSVQICAgIfAhkiAAABaVJREFUaIHtmtluFTsQRVdCkzCEEGZBIAGigJAAIb6AD+cDEBJSJITIAETM8zwTIPdp2btP+t4PiG+99Dl2t9vtqtq1q+yx69evbwKMj4+jnDhxAoCZmRkAuq4rfZ8+fepdAX78+AHAxsYGAF++fCl97969A+Dly5cAvHr1qvStrKwAsL6+XtoePHgAwNevXwH48+dP6RsbGwNgYmICgL9//zIqv3//Lr+d9/iWu7ahdHfu3AHg8OHDpXFqagqo2s0V+/DhAwBPnjwpba76z58/gf7q//r1C4DPnz9vefnevXsBmJ6eLm3+/v79+5b7nc/JkyeBaiVQrSetznk3ockmPrK7ceMGAIuLi6Xx0KFDQDWZBJI3b94AFWSgmvepU6eAClhQTUzT0nwBXrx4AYAuA7Bjxw6gukC+2/dcu3YNgFu3bpW+1dVVoO9ajtWGJjc3N4H+CgsuXhNIdOyjR4+WtgMHDvTaXHGA3bt3AxVQEiwcd2FhYcvEnNfdu3dLm+ClBp3f0HMpTWiyiY/sPn78CFQQgMpONM25ubnSd+TIEaBvrprn5OQk0GdPApQglvHPuLp///7Sdvbs2d5YXgFu3rwJVPBLUHKsfLe/29Dkrl27gKo9gLdv3wJw7NgxoDITqKuTK6yopQSEZ8+eAfD48WMA3r9/X/oME4ITwM6dOwE4fvw4ABcuXCh9avD58+dAn6cO8dgy53/t2UbSvX79ekuj4SRDwai4qlA17Vj37t0rfVqFvp9+ZCazZ8+e0qavnz59GoDz58+XPnHDMVOTZiZD0oQmm/jIbm1tDehzV8HIEJJmYUgQsqECQZqiInh5zbEcI8cSjGQ3CUpy40ePHgF9lxkKIU2lWp1fa5CHWmaQxSd3daUzqLvaly9f7v3P+wWl5K6GkwQ45zGUsBtWLl26BNTwBNWanHuO0YYmh4K6cOxKDAXrfG7UF1PzEgM1n3moWk1tiQ2GpSxnOK5+nUTB91hUg6rVJjTZxEd2AkOakUnwwYMHgQr/UEEiTUxz1fwMQVDNzTHOnTtX+jRJeS1UN5idnQX64cV3er148WLpMxQmGCltaNJyQYKLGrQglYUpi1y5wgKVY2SfPHgoJCj79u0rv32X4Uugy/EtpahtgPn5eaCvyaZCSBMf2an6rJgJEppOMhLNJzmi8cv7k3WYHpWYFc8Z7zLVciyBMM1bUNKdkj3JhnJ8pQ1NuipeYWtBKhmMoJJJqiGjOHqspprP7ENRS1krHS18DWVAPpdsSFBqNwvR3xLGXQ1XMTMO25I8yBv1uyx8STZc9QwJo1qDahWWSyx1QLUifTg3gs0t04eb0mQTH9kNVbb9PVQR1zRzI8aE1UrbmTNnSp/Vcc00zVUTTrOz3xKHZwjyfl0sXcYEfIhRtaFJHduVg8oNLUWklpeWloB+ldyAf+XKFaBfYDKxdY8jw4X8NO83I/FMQs4rAS2fz+dSu00BT9nVSh8zFHgiJE9nSAIePnxY2qRXhourV6+WPjMF+1IcN7Mc/Vs/TR9WzISy+u/4/4eQ7Szdt2/fALh9+3ZpzHIE9M11KHMw1AwBiaA1WrqAyrJyU8dwJYBkVXD0ZEhuN1qCyfEFuTY06ZdnSFC7rlzyx+LMQRBGgWroHI/XBBLb8sib3NU2z+dADScCztDpj6E8twlNNvGRJescYgpyxXRm78uEVXAQlIy9ULmn7Cmf0x3y3QKVW3dpkrIgx/+vcwLQ2DZBl/xP0WGF4CEWkeKKCVh5OlmwsNCU/FOQybOwhq/79+8D/dMiWko5kTx0ZqfZQtbQCqhJtZYlRiULTIYFq+W5lff06VOgnjd3nwWqJjNn9H59MU+K6a9uz2V2lAcgR6UJTTbxkd3QRsxo29AZ0iHAUjKtkp0sLy8D/Y0lOXGa6+hzGUJMv6zapYlmaFKaSrX+ATIOaHrED2SDAAAAAElFTkSuQmCC\" y=\"-199.969342\"/>\r\n   </g>\r\n   <g id=\"text_13\">\r\n    <!-- 1 -->\r\n    <g transform=\"translate(187.670212 194.22358)scale(0.12 -0.12)\">\r\n     <use xlink:href=\"#DejaVuSans-49\"/>\r\n    </g>\r\n   </g>\r\n  </g>\r\n  <g id=\"axes_14\">\r\n   <g clip-path=\"url(#p87cf01d0f1)\">\r\n    <image height=\"57\" id=\"image9827766e0b\" transform=\"scale(1 -1)translate(0 -57)\" width=\"57\" x=\"231.209746\" xlink:href=\"data:image/png;base64,\r\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\" y=\"-199.969342\"/>\r\n   </g>\r\n   <g id=\"text_14\">\r\n    <!-- 1 -->\r\n    <g transform=\"translate(255.765127 194.22358)scale(0.12 -0.12)\">\r\n     <use xlink:href=\"#DejaVuSans-49\"/>\r\n    </g>\r\n   </g>\r\n  </g>\r\n  <g id=\"axes_15\">\r\n   <g clip-path=\"url(#p5b6964cc96)\">\r\n    <image height=\"57\" id=\"image747a108634\" transform=\"scale(1 -1)translate(0 -57)\" width=\"57\" x=\"299.304661\" xlink:href=\"data:image/png;base64,\r\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\" y=\"-199.969342\"/>\r\n   </g>\r\n   <g id=\"text_15\">\r\n    <!-- 1 -->\r\n    <g transform=\"translate(323.860042 194.22358)scale(0.12 -0.12)\">\r\n     <use xlink:href=\"#DejaVuSans-49\"/>\r\n    </g>\r\n   </g>\r\n  </g>\r\n  <g id=\"axes_16\">\r\n   <g clip-path=\"url(#p933cbf7fc8)\">\r\n    <image height=\"57\" id=\"image6c0f42ae67\" transform=\"scale(1 -1)translate(0 -57)\" width=\"57\" x=\"367.399576\" xlink:href=\"data:image/png;base64,\r\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\" y=\"-199.969342\"/>\r\n   </g>\r\n   <g id=\"text_16\">\r\n    <!-- 1 -->\r\n    <g transform=\"translate(391.954958 194.22358)scale(0.12 -0.12)\">\r\n     <use xlink:href=\"#DejaVuSans-49\"/>\r\n    </g>\r\n   </g>\r\n  </g>\r\n  <g id=\"axes_17\">\r\n   <g clip-path=\"url(#pcf53aea0d4)\">\r\n    <image height=\"57\" id=\"image02754d8b6c\" transform=\"scale(1 -1)translate(0 -57)\" width=\"57\" x=\"435.494492\" xlink:href=\"data:image/png;base64,\r\niVBORw0KGgoAAAANSUhEUgAAADkAAAA5CAYAAACMGIOFAAAABHNCSVQICAgIfAhkiAAABeRJREFUaIHlm8luFEsQRY+hmWebeRCzkBELxNL/y4YVfAESLBASGxCYwYBl5hkzmBn8FryTebu63vuAzty4FFGdlZURceNGZHlidnZ2GeDVq1c4VqxYAcC7d+8AmJiYKLovX74AMDs7W2Rr164FYM+ePUO/B1i1ahU53r59W64/fPgAwLdv34rs8+fPAPz582dkro0bNwKwZcsWAJaXl4vuxYsXAOzevbvInLfOMMZj4MX09HQR7ty5E4DLly8D8Pz586LT4ps2bSqyyclJoO6wVshrLbJ58+ai0xJbt24dmV+L5tAya9asGXnOtm3bgGHP+f37999nj8w0hqOJlxzoAp8+fSpCzexYXFws14LQhg0biszrHz9+ABWIAAaDEhHAMJCsXLkS6HfvdevWjazFNQpehlXe//Xr1yLT5duw5Pfv34GaGqDutlZLEBDGDf6UabUMfud3jvXr1xedgJXzr169GqgWScvodcoePXpUdILX1NRUkfmsJizZxEsOuiwir1++fAkMMx5dIHPb9u3bgQokHz9+LDpdTDdM4BHQcn6Bx+ekews4zpVuvm/fvpG5BKM2LCmAJOy7A3LL3H13UQ+ACkJLS0tAtWjOKw/OdOG8P3/+LLIuCxKc8r5nz54NrQXgwYMHQLUowK9fv/4+p//dx2uUFJK76bUxkClBq2WSN2Ebi5mOssLoDu93DVDxQGKRc1nlmEKyCtGLUlZw4D9XMEajiZcc6HYJLrqRrpblkYCgO0F1Z1NCgtixY8cAOHLkCFABCODWrVtATVUA165dA6pr5rNlM67V1AU1tJLrmk7asKTJNuHYYBeCM10Y2OoAFhYWALhz5w4AZ86cKTqB6sqVK8BwteNzMqlbjAt+Dx8+LDo9xKrn/fv3Rbdr1y6gv13ShiX124yxZP4wTPm8b35+vsiMYXcud9i49jmZjpSlV5j8/V0md2PSNWS66BISqBZvwpJNvOTg6dOnwLDLyA1NF8nsBY6U6UYCSQa/MnlwhoWpI2UHDhwAqutntSPw9LVgTE3JkF6/fv13Pf3vPl5jIHxnwHZH7o5QnZWGlYXJ2R2EShAkBdmeuHHjxsj9pQb81xvy/v379wM18SdAen96kV7ahCWbeMnirgkk3fZC5klzk215qKWSuuSUMhh7pLoc1DDIUPGZhkW2P9QlSDp00yzbfHYblpStZNEsK+krkNWldQUC50p+6v3ucBbR3pctEdPCjh07Rp6txQWzbqcfhq3cVvvDnc0d1oLGWMaMO5u+360m8lhPa6nL2tGdzrgzqf9f20Sv67Najrm5OaARSzbxkgPNnGftupi65JZy0Az6btc7dbpyunB3pAs7h2tIEDOMLKSz1DIF5iHQ9evXgVYsKYAcPHiwCO/evQtUbpi76UjYdxf9q7WhApQ7nFxU/ts3/+3bt4FhANIrXFcewkpAMuWUJt3I7GM4Sksyv/A4d+4cUOP0xIkTRWcc5BG7sWIdmlWLNeCbN2+A4d2XKHTbLVArk2yiGa979+4dWcOlS5cAOHz4cJGV5tbI7GM4mnjJga519uzZIhR6TQWHDh0qOoEjXUVm4adfWVBbrRgWFrJQO3HZ4hCgDItkVlYwguSFCxeKTvc+fvx4kfnbNiwp4Fy9erUIBYm+Lz0eP348IhNA3OlM7hIJiUXfN0HJO+3ZymEzvQhsHrjmOYld++TBjiYs2cRLlqK5r/N1//59AI4ePVp0Ake6nblQ10zGI6gIXtn2F5RmZmaKzOOHe/fuATXX5bwCWx5SyYzye9q2iuY+tuEOabXkj7KfrADcWS2a92stoT0bWd6fc5miTp8+DQyDkt/C6kUJSgKoB7tQq5U2LCmMZw3YbSV4yAo1pjJOjWGPwPOMovudUFqtr42R+u66rHwkMEksLl68CNSDYKgWb8KSTbzkwHIq+6hPnjwBKnu4efNm0Rnsp06dKjJLH/+N4uTJk0VnCunr5Mmosr3SLcBTJ/DIeM6fP190rjFdvxwC9b/7eI1/ALP0eL4WJ1W0AAAAAElFTkSuQmCC\" y=\"-199.969342\"/>\r\n   </g>\r\n   <g id=\"text_17\">\r\n    <!-- 1 -->\r\n    <g transform=\"translate(460.049873 194.22358)scale(0.12 -0.12)\">\r\n     <use xlink:href=\"#DejaVuSans-49\"/>\r\n    </g>\r\n   </g>\r\n  </g>\r\n  <g id=\"axes_18\">\r\n   <g clip-path=\"url(#p237fc5f185)\">\r\n    <image height=\"57\" id=\"image19a637b2b0\" transform=\"scale(1 -1)translate(0 -57)\" width=\"57\" x=\"503.589407\" xlink:href=\"data:image/png;base64,\r\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\" y=\"-199.969342\"/>\r\n   </g>\r\n   <g id=\"text_18\">\r\n    <!-- 1 -->\r\n    <g transform=\"translate(528.144788 194.22358)scale(0.12 -0.12)\">\r\n     <use xlink:href=\"#DejaVuSans-49\"/>\r\n    </g>\r\n   </g>\r\n  </g>\r\n  <g id=\"axes_19\">\r\n   <g clip-path=\"url(#p8c9be4d0ef)\">\r\n    <image height=\"57\" id=\"image90d8da2bd4\" transform=\"scale(1 -1)translate(0 -57)\" width=\"57\" x=\"571.684322\" xlink:href=\"data:image/png;base64,\r\niVBORw0KGgoAAAANSUhEUgAAADkAAAA5CAYAAACMGIOFAAAABHNCSVQICAgIfAhkiAAABbdJREFUaIHlmjevVDsUhb97GXLOOQgRJSqCkPgPSFTQ8c9oKSkQdIiKEiQECFEQRBA553xfw2evM2PxerybOfL22Mde22sHn6kzZ87MALx58wZl1apVACxevBiAhQsXFt28efMGvwCrV68GYDQaAfD58+ei+/TpEwBfv34FYHp6uuhevHjB+Nzfvn0btN2+fbvodu3aBcDcuXMZl9+/fwMwMzMz0TY90fsflNHHjx8BWLNmTWlcunQpAIsWLQJgwYIFRTc1NTXRJkq/fv0a/AL8/PkTqLvqfNnmPFCRV5YvX16enz59CsDWrVsH//8/6QLJLhY5kkBWrlxZGiWc+fPnT/zBg60ZZtuPHz+AoRl9//4dqGaYJCMJtYjqy5cvwPBYONbz58+BSpD5Di3pA8lly5YBMGfOnNIogi2qVhJJkfM3deN90h1JQlpA9mvNPXv2bKCinO6oRULqu0Cyi0WONAvNFqqpzJo1Cxj6PU1GEmj1S3PVZOyTOkmlRWK+z4oVK4ru0aNHQD1a+V6On2arT+8DSUnGnYBKPO5wa8ey/4cPHwC4evXqhG7//v0AbN++HRhS/fv37wE4depUaXPOEydOAEMC0v04X7oeCS3JyPfuA8mWLbubSe3lD38yjUTrxo0bQI1hd+/eXXRr164FanaRSDp+OvULFy4AcODAAQA2btxYdMaxb9++nXgHn1tBQRdIdrHIqStXrsxATa+gUq/SioYyZRp3IRIDVNPS5eTY9jeFSlG3fv360mZMfe3aNaAeAaiJe5Kk0gWSI6P+LGf8LRgwbkxSGnfq69atKzqJxzFevnxZJ/9DYjm3bkWU7APVPdg/E2ytLYOUvlyIDxlaiaRtqROJJUuWlLZEAoY7bBjorr5+/broPNdaB0yGgWlFoqTlPHv2rOhK0arXYKCLRY40lUxmPeyaabqXTZs2AUOTfPz4MTCMXJQHDx4A1TSTeDSnzIB0PxJJEpwmPE5AOVZK6T+h+QdlJFrp8PPwwhBJD33299A/efIEGKKlzp3WoQPs2LEDqBkKwN27dwG4ePEiADt37iw6SUxizHdwHfaBGsd2gWQXixwJb0YWtlm+z3hTE0izMAVyjKyVWrJwrEzpJKocXxLShNO8c04Y1oV9r0y1+ip/6DryELtj6jLikeJbNU8RTWp3DBFNJI1Pk/6NXUU057H80XJ7Juwtq+sDSWPQVs7oDufuiFLuvjuWGYDif80LvceAahWJvPFoqX4HkvbX0lLXqtp3hWQXixy1EldNzMOcZKFZJ51rKlkHVcar6jmPxyJTLVMxXUemZopmm5GYUVbGz325EB+SSHyW4jMWlVyyv/2yDqr87frP/mYqAK9evQJqHJxWpMuQvNKazp49C8DJkyfr4v5YaR9IikLmbeaKDx8+BIbf0qSrUTxvUvaGDRuKTiSdJ2+pRMnMI8fyHbLEYbBx7tw5AI4ePVp0N2/enOhvEa0LJLtYZEmasxotbUs4d+7cKTovd+7fv1/ajh8/DlRKv3fvXtHt3bsXqGWTzFCMWJJcNLd3794BcPny5aLbtm0bAIcOHQJq2SXfP9dR5plo+Qel6UJE0IzAazSAgwcPAkMyGv/qIz9h09GLTOaArUKZxKQFHD58uOgcQ0s7f/580Ylg8yuQiZZ/ULpY5KgFr5GIvjOJx2Q2P1MzITZyyQjJWHLPnj3AsJyhuUpKUK/6Ll26NDGWx8f3y5JNqyyj9IHkrVu3ADhy5Ehp9ELTXcnY0sNvhpLPxpZJPOPf42R8a0aSZQwtxJps6+NCXUde3op8upUtW7YAvSB5+vRpAPbt21capXQvUzdv3lx0rZjSGNHf8au8lFb2kmWM8SJa5pqiKtr5xbNy/fr18mzQ0AWSXSxy5KdiXrAAHDt2DKjmkFVpXYKHGiqVW25oVfIkp7zyU5euYPzasFWn9RowdT6bdOf4XSD5H36OT9Xvx+rTAAAAAElFTkSuQmCC\" y=\"-199.969342\"/>\r\n   </g>\r\n   <g id=\"text_19\">\r\n    <!-- 1 -->\r\n    <g transform=\"translate(596.239703 194.22358)scale(0.12 -0.12)\">\r\n     <use xlink:href=\"#DejaVuSans-49\"/>\r\n    </g>\r\n   </g>\r\n  </g>\r\n  <g id=\"axes_20\">\r\n   <g clip-path=\"url(#p27008d6071)\">\r\n    <image height=\"57\" id=\"image6026d89c11\" transform=\"scale(1 -1)translate(0 -57)\" width=\"57\" x=\"639.779237\" xlink:href=\"data:image/png;base64,\r\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\" y=\"-199.969342\"/>\r\n   </g>\r\n   <g id=\"text_20\">\r\n    <!-- 1 -->\r\n    <g transform=\"translate(664.334619 194.22358)scale(0.12 -0.12)\">\r\n     <use xlink:href=\"#DejaVuSans-49\"/>\r\n    </g>\r\n   </g>\r\n  </g>\r\n </g>\r\n <defs>\r\n  <clipPath id=\"p01b9e422f1\">\r\n   <rect height=\"56.745763\" width=\"56.745763\" x=\"26.925\" y=\"22.318125\"/>\r\n  </clipPath>\r\n  <clipPath id=\"pd2bbe3f27c\">\r\n   <rect height=\"56.745763\" width=\"56.745763\" x=\"95.019915\" y=\"22.318125\"/>\r\n  </clipPath>\r\n  <clipPath id=\"pffb2f35afb\">\r\n   <rect height=\"56.745763\" width=\"56.745763\" x=\"163.114831\" y=\"22.318125\"/>\r\n  </clipPath>\r\n  <clipPath id=\"p7dff453cb2\">\r\n   <rect height=\"56.745763\" width=\"56.745763\" x=\"231.209746\" y=\"22.318125\"/>\r\n  </clipPath>\r\n  <clipPath id=\"p21f0cb5b16\">\r\n   <rect height=\"56.745763\" width=\"56.745763\" x=\"299.304661\" y=\"22.318125\"/>\r\n  </clipPath>\r\n  <clipPath id=\"p994ea925c4\">\r\n   <rect height=\"56.745763\" width=\"56.745763\" x=\"367.399576\" y=\"22.318125\"/>\r\n  </clipPath>\r\n  <clipPath id=\"p3da6f86602\">\r\n   <rect height=\"56.745763\" width=\"56.745763\" x=\"435.494492\" y=\"22.318125\"/>\r\n  </clipPath>\r\n  <clipPath id=\"p91331c5dc4\">\r\n   <rect height=\"56.745763\" width=\"56.745763\" x=\"503.589407\" y=\"22.318125\"/>\r\n  </clipPath>\r\n  <clipPath id=\"p250db29716\">\r\n   <rect height=\"56.745763\" width=\"56.745763\" x=\"571.684322\" y=\"22.318125\"/>\r\n  </clipPath>\r\n  <clipPath id=\"p0ce57cf596\">\r\n   <rect height=\"56.745763\" width=\"56.745763\" x=\"639.779237\" y=\"22.318125\"/>\r\n  </clipPath>\r\n  <clipPath id=\"pce4edade14\">\r\n   <rect height=\"56.745763\" width=\"56.745763\" x=\"26.925\" y=\"200.22358\"/>\r\n  </clipPath>\r\n  <clipPath id=\"pb985f4a163\">\r\n   <rect height=\"56.745763\" width=\"56.745763\" x=\"95.019915\" y=\"200.22358\"/>\r\n  </clipPath>\r\n  <clipPath id=\"pdec73a7563\">\r\n   <rect height=\"56.745763\" width=\"56.745763\" x=\"163.114831\" y=\"200.22358\"/>\r\n  </clipPath>\r\n  <clipPath id=\"p87cf01d0f1\">\r\n   <rect height=\"56.745763\" width=\"56.745763\" x=\"231.209746\" y=\"200.22358\"/>\r\n  </clipPath>\r\n  <clipPath id=\"p5b6964cc96\">\r\n   <rect height=\"56.745763\" width=\"56.745763\" x=\"299.304661\" y=\"200.22358\"/>\r\n  </clipPath>\r\n  <clipPath id=\"p933cbf7fc8\">\r\n   <rect height=\"56.745763\" width=\"56.745763\" x=\"367.399576\" y=\"200.22358\"/>\r\n  </clipPath>\r\n  <clipPath id=\"pcf53aea0d4\">\r\n   <rect height=\"56.745763\" width=\"56.745763\" x=\"435.494492\" y=\"200.22358\"/>\r\n  </clipPath>\r\n  <clipPath id=\"p237fc5f185\">\r\n   <rect height=\"56.745763\" width=\"56.745763\" x=\"503.589407\" y=\"200.22358\"/>\r\n  </clipPath>\r\n  <clipPath id=\"p8c9be4d0ef\">\r\n   <rect height=\"56.745763\" width=\"56.745763\" x=\"571.684322\" y=\"200.22358\"/>\r\n  </clipPath>\r\n  <clipPath id=\"p27008d6071\">\r\n   <rect height=\"56.745763\" width=\"56.745763\" x=\"639.779237\" y=\"200.22358\"/>\r\n  </clipPath>\r\n </defs>\r\n</svg>\r\n",
      "image/png": "[encoded data removed]"
     },
     "metadata": {
      "needs_background": "light"
     }
    }
   ],
   "source": [
    "# Visualize some examples from the dataset.\n",
    "samples_per_class = 10\n",
    "classes = [-1, 1]\n",
    "train_imgs = np.reshape(X_train, [-1, 24, 24], order='F')\n",
    "\n",
    "for y, cls in enumerate(classes):\n",
    "    idxs = np.flatnonzero(np.equal(y_train, cls))\n",
    "    idxs = np.random.choice(idxs, samples_per_class, replace=False)\n",
    "    for i, idx in enumerate(idxs):\n",
    "        plt_idx = y * samples_per_class + i + 1\n",
    "        plt.subplot(len(classes), samples_per_class, plt_idx)\n",
    "        plt.imshow(train_imgs[idx])\n",
    "        plt.axis('off')\n",
    "        plt.title(cls)\n",
    "plt.show()"
   ]
  },
  {
   "cell_type": "markdown",
   "metadata": {},
   "source": [
    "## Exercise 1: The SVM loss function [15 Points]\n",
    "\n",
    "Recall the formulation of the SVM optimization problem as follows:\n",
    "\n",
    "\\begin{aligned}\n",
    "& \\min_{w, b}\n",
    "& & \\frac{1}{2}||w||^2 + C\\sum_{i=1}^m \\xi_i \\\\\n",
    "& \\ \\text{ s.t.}\n",
    "& & y^{(i)}(w^Tx^{(i)}+b) \\geq 1-\\xi_i, \\; i = 1, \\ldots, m \\\\\n",
    "& & & \\xi_i \\geq 0, \\; i = 1, \\ldots, m \\\\\n",
    "\\end{aligned}\n",
    "\n",
    "Let $f(x)=w^Tx+b$. The constraints can then be written as $y^{(i)}f(x^{(i)})\\geq 1-\\xi_i$. Together with the constraints $\\xi_i \\geq 0$ this leads to $\\xi_i=\\max(0, 1-y^{(i)}f(x^{(i)}))$. The above constraint optimization problem is therefore equivalent to the following **unconstraint** problem:\n",
    "\n",
    "\\begin{equation}\n",
    "\\min_{w, b} \\frac{\\lambda}{2}||w||^2 + \\frac{1}{m}\\sum_{i=1}^m \\max(0, 1-y^{(i)}f(x^{(i)}))\n",
    "\\end{equation}\n",
    "\n",
    "The first term in this objective is a regularization term (prevents overfitting) and the second term measures the classification loss. Here the parameter $\\lambda=1/C$ is a **hyper-parameter** that controls the relative weight of  both losses.\n",
    "\n",
    "\n",
    "**TODO**: Implement the **unconstrained** objective function for SVM in *svm_loss.py* according to the specifications.\n",
    "\n",
    "***HINT***: Consider again what you would expect with the provided values of w, b and C."
   ]
  },
  {
   "cell_type": "code",
   "execution_count": 72,
   "metadata": {
    "scrolled": false
   },
   "outputs": [
    {
     "output_type": "stream",
     "name": "stdout",
     "text": [
      "SVM-loss with initial parameters:  1.0\n"
     ]
    }
   ],
   "source": [
    "# Test your cost-function\n",
    "w_0 = np.zeros(X_train.shape[1])\n",
    "b_0 = 0.\n",
    "l_0 = svm_loss(w_0, b_0, X_train, y_train, 1.)\n",
    "print('SVM-loss with initial parameters: ', l_0)"
   ]
  },
  {
   "cell_type": "markdown",
   "metadata": {},
   "source": [
    "## Exercise 2: The SVM Gradient [15 Points]\n",
    "\n",
    "**TODO**: Implement the gradient of the above unconstrained objective w.r.t. to the parameters $w$ and $b$. The gradient will be computed on a mini-batch (i.e., a random subset of the training set).\n",
    "\n",
    "**Hint**: Don't worry about the fact that $\\max(0, 1-y^{(i)}f(x^{(i)}))$ is not differentiable at $1-y^{(i)}f(x^{(i)})=0$. Just pick a one-sided gradient (this is called a subgradient for convex functions)."
   ]
  },
  {
   "cell_type": "code",
   "execution_count": 73,
   "metadata": {
    "scrolled": false
   },
   "outputs": [
    {
     "output_type": "stream",
     "name": "stdout",
     "text": [
      "[0. 0. 0. 0. 0. 0. 0. 0. 0. 0.]\n0.0\n"
     ]
    }
   ],
   "source": [
    "# Test your implementation\n",
    "x_ = np.ones([2, 10])\n",
    "y_ = np.array([1, -1])\n",
    "w_0 = np.zeros(10)\n",
    "b_0 = 0.\n",
    "grad_w, grad_b = svm_gradient(w_0, b_0, x_, y_, 1.)\n",
    "print(grad_w)\n",
    "print(grad_b)\n",
    "\n"
   ]
  },
  {
   "cell_type": "markdown",
   "metadata": {},
   "source": [
    "## Exercise 3: The SVM Solver [20 Points]\n",
    "\n",
    "You will implement the **Pegasos** algorithm - a variant of SGD - to solve for the parameters $w$ and $b$. \n",
    "\n",
    "The algorithm was introduced in the following [Paper](http://ttic.uchicago.edu/~nati/Publications/PegasosMPB.pdf) (see Figure 2). It is essentially Stochastic Gradient Descent on mini-batches + a specific choice for the learning rate giving convergence guarantees. The required steps are outlined in **svm_solver.py**. For more details, please refer to the [Paper](http://ttic.uchicago.edu/~nati/Publications/PegasosMPB.pdf).\n",
    "\n",
    "**TODO**: Implement the Pegasos algorithm in **svm_solver.py** according to specs. \n",
    "\n",
    "***HINT***: You know what performance to expect from the previous assignment (maybe you need to tune the hyper-parameter **C**)"
   ]
  },
  {
   "cell_type": "code",
   "execution_count": 89,
   "metadata": {
    "scrolled": false
   },
   "outputs": [
    {
     "output_type": "stream",
     "name": "stdout",
     "text": [
      "Iter 5000/30000: cost = 285.84497396030474  (0.0015554428100585938s)\n",
      "Iter 10000/30000: cost = 103.34297367725702  (0.0009942054748535156s)\n",
      "Iter 15000/30000: cost = 62.538375806651544  (0.0s)\n",
      "Iter 20000/30000: cost = 50.04162044589773  (0.002760171890258789s)\n",
      "Iter 25000/30000: cost = 46.20470541249703  (0.0015048980712890625s)\n",
      "Total exection time: 74.54982376098633s\n"
     ]
    },
    {
     "output_type": "display_data",
     "data": {
      "text/plain": "<Figure size 864x432 with 1 Axes>",
      "image/svg+xml": "<?xml version=\"1.0\" encoding=\"utf-8\" standalone=\"no\"?>\r\n<!DOCTYPE svg PUBLIC \"-//W3C//DTD SVG 1.1//EN\"\r\n  \"http://www.w3.org/Graphics/SVG/1.1/DTD/svg11.dtd\">\r\n<!-- Created with matplotlib (https://matplotlib.org/) -->\r\n<svg height=\"372.35625pt\" version=\"1.1\" viewBox=\"0 0 363.785 372.35625\" width=\"363.785pt\" xmlns=\"http://www.w3.org/2000/svg\" xmlns:xlink=\"http://www.w3.org/1999/xlink\">\r\n <defs>\r\n  <style type=\"text/css\">\r\n*{stroke-linecap:butt;stroke-linejoin:round;}\r\n  </style>\r\n </defs>\r\n <g id=\"figure_1\">\r\n  <g id=\"patch_1\">\r\n   <path d=\"M 0 372.35625 \r\nL 363.785 372.35625 \r\nL 363.785 0 \r\nL 0 0 \r\nz\r\n\" style=\"fill:none;\"/>\r\n  </g>\r\n  <g id=\"axes_1\">\r\n   <g id=\"patch_2\">\r\n    <path d=\"M 26.925 348.478125 \r\nL 353.085 348.478125 \r\nL 353.085 22.318125 \r\nL 26.925 22.318125 \r\nz\r\n\" style=\"fill:#ffffff;\"/>\r\n   </g>\r\n   <g clip-path=\"url(#pdc97447190)\">\r\n    <image height=\"327\" id=\"image65698aeb59\" transform=\"scale(1 -1)translate(0 -327)\" width=\"327\" x=\"26.925\" xlink:href=\"data:image/png;base64,\r\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\" y=\"-21.478125\"/>\r\n   </g>\r\n   <g id=\"matplotlib.axis_1\">\r\n    <g id=\"xtick_1\">\r\n     <g id=\"line2d_1\">\r\n      <defs>\r\n       <path d=\"M 0 0 \r\nL 0 3.5 \r\n\" id=\"me4778f1069\" style=\"stroke:#000000;stroke-width:0.8;\"/>\r\n      </defs>\r\n      <g>\r\n       <use style=\"stroke:#000000;stroke-width:0.8;\" x=\"33.72\" xlink:href=\"#me4778f1069\" y=\"348.478125\"/>\r\n      </g>\r\n     </g>\r\n     <g id=\"text_1\">\r\n      <!-- 0 -->\r\n      <defs>\r\n       <path d=\"M 31.78125 66.40625 \r\nQ 24.171875 66.40625 20.328125 58.90625 \r\nQ 16.5 51.421875 16.5 36.375 \r\nQ 16.5 21.390625 20.328125 13.890625 \r\nQ 24.171875 6.390625 31.78125 6.390625 \r\nQ 39.453125 6.390625 43.28125 13.890625 \r\nQ 47.125 21.390625 47.125 36.375 \r\nQ 47.125 51.421875 43.28125 58.90625 \r\nQ 39.453125 66.40625 31.78125 66.40625 \r\nz\r\nM 31.78125 74.21875 \r\nQ 44.046875 74.21875 50.515625 64.515625 \r\nQ 56.984375 54.828125 56.984375 36.375 \r\nQ 56.984375 17.96875 50.515625 8.265625 \r\nQ 44.046875 -1.421875 31.78125 -1.421875 \r\nQ 19.53125 -1.421875 13.0625 8.265625 \r\nQ 6.59375 17.96875 6.59375 36.375 \r\nQ 6.59375 54.828125 13.0625 64.515625 \r\nQ 19.53125 74.21875 31.78125 74.21875 \r\nz\r\n\" id=\"DejaVuSans-48\"/>\r\n      </defs>\r\n      <g transform=\"translate(30.53875 363.076563)scale(0.1 -0.1)\">\r\n       <use xlink:href=\"#DejaVuSans-48\"/>\r\n      </g>\r\n     </g>\r\n    </g>\r\n    <g id=\"xtick_2\">\r\n     <g id=\"line2d_2\">\r\n      <g>\r\n       <use style=\"stroke:#000000;stroke-width:0.8;\" x=\"101.67\" xlink:href=\"#me4778f1069\" y=\"348.478125\"/>\r\n      </g>\r\n     </g>\r\n     <g id=\"text_2\">\r\n      <!-- 5 -->\r\n      <defs>\r\n       <path d=\"M 10.796875 72.90625 \r\nL 49.515625 72.90625 \r\nL 49.515625 64.59375 \r\nL 19.828125 64.59375 \r\nL 19.828125 46.734375 \r\nQ 21.96875 47.46875 24.109375 47.828125 \r\nQ 26.265625 48.1875 28.421875 48.1875 \r\nQ 40.625 48.1875 47.75 41.5 \r\nQ 54.890625 34.8125 54.890625 23.390625 \r\nQ 54.890625 11.625 47.5625 5.09375 \r\nQ 40.234375 -1.421875 26.90625 -1.421875 \r\nQ 22.3125 -1.421875 17.546875 -0.640625 \r\nQ 12.796875 0.140625 7.71875 1.703125 \r\nL 7.71875 11.625 \r\nQ 12.109375 9.234375 16.796875 8.0625 \r\nQ 21.484375 6.890625 26.703125 6.890625 \r\nQ 35.15625 6.890625 40.078125 11.328125 \r\nQ 45.015625 15.765625 45.015625 23.390625 \r\nQ 45.015625 31 40.078125 35.4375 \r\nQ 35.15625 39.890625 26.703125 39.890625 \r\nQ 22.75 39.890625 18.8125 39.015625 \r\nQ 14.890625 38.140625 10.796875 36.28125 \r\nz\r\n\" id=\"DejaVuSans-53\"/>\r\n      </defs>\r\n      <g transform=\"translate(98.48875 363.076563)scale(0.1 -0.1)\">\r\n       <use xlink:href=\"#DejaVuSans-53\"/>\r\n      </g>\r\n     </g>\r\n    </g>\r\n    <g id=\"xtick_3\">\r\n     <g id=\"line2d_3\">\r\n      <g>\r\n       <use style=\"stroke:#000000;stroke-width:0.8;\" x=\"169.62\" xlink:href=\"#me4778f1069\" y=\"348.478125\"/>\r\n      </g>\r\n     </g>\r\n     <g id=\"text_3\">\r\n      <!-- 10 -->\r\n      <defs>\r\n       <path d=\"M 12.40625 8.296875 \r\nL 28.515625 8.296875 \r\nL 28.515625 63.921875 \r\nL 10.984375 60.40625 \r\nL 10.984375 69.390625 \r\nL 28.421875 72.90625 \r\nL 38.28125 72.90625 \r\nL 38.28125 8.296875 \r\nL 54.390625 8.296875 \r\nL 54.390625 0 \r\nL 12.40625 0 \r\nz\r\n\" id=\"DejaVuSans-49\"/>\r\n      </defs>\r\n      <g transform=\"translate(163.2575 363.076563)scale(0.1 -0.1)\">\r\n       <use xlink:href=\"#DejaVuSans-49\"/>\r\n       <use x=\"63.623047\" xlink:href=\"#DejaVuSans-48\"/>\r\n      </g>\r\n     </g>\r\n    </g>\r\n    <g id=\"xtick_4\">\r\n     <g id=\"line2d_4\">\r\n      <g>\r\n       <use style=\"stroke:#000000;stroke-width:0.8;\" x=\"237.57\" xlink:href=\"#me4778f1069\" y=\"348.478125\"/>\r\n      </g>\r\n     </g>\r\n     <g id=\"text_4\">\r\n      <!-- 15 -->\r\n      <g transform=\"translate(231.2075 363.076563)scale(0.1 -0.1)\">\r\n       <use xlink:href=\"#DejaVuSans-49\"/>\r\n       <use x=\"63.623047\" xlink:href=\"#DejaVuSans-53\"/>\r\n      </g>\r\n     </g>\r\n    </g>\r\n    <g id=\"xtick_5\">\r\n     <g id=\"line2d_5\">\r\n      <g>\r\n       <use style=\"stroke:#000000;stroke-width:0.8;\" x=\"305.52\" xlink:href=\"#me4778f1069\" y=\"348.478125\"/>\r\n      </g>\r\n     </g>\r\n     <g id=\"text_5\">\r\n      <!-- 20 -->\r\n      <defs>\r\n       <path d=\"M 19.1875 8.296875 \r\nL 53.609375 8.296875 \r\nL 53.609375 0 \r\nL 7.328125 0 \r\nL 7.328125 8.296875 \r\nQ 12.9375 14.109375 22.625 23.890625 \r\nQ 32.328125 33.6875 34.8125 36.53125 \r\nQ 39.546875 41.84375 41.421875 45.53125 \r\nQ 43.3125 49.21875 43.3125 52.78125 \r\nQ 43.3125 58.59375 39.234375 62.25 \r\nQ 35.15625 65.921875 28.609375 65.921875 \r\nQ 23.96875 65.921875 18.8125 64.3125 \r\nQ 13.671875 62.703125 7.8125 59.421875 \r\nL 7.8125 69.390625 \r\nQ 13.765625 71.78125 18.9375 73 \r\nQ 24.125 74.21875 28.421875 74.21875 \r\nQ 39.75 74.21875 46.484375 68.546875 \r\nQ 53.21875 62.890625 53.21875 53.421875 \r\nQ 53.21875 48.921875 51.53125 44.890625 \r\nQ 49.859375 40.875 45.40625 35.40625 \r\nQ 44.1875 33.984375 37.640625 27.21875 \r\nQ 31.109375 20.453125 19.1875 8.296875 \r\nz\r\n\" id=\"DejaVuSans-50\"/>\r\n      </defs>\r\n      <g transform=\"translate(299.1575 363.076563)scale(0.1 -0.1)\">\r\n       <use xlink:href=\"#DejaVuSans-50\"/>\r\n       <use x=\"63.623047\" xlink:href=\"#DejaVuSans-48\"/>\r\n      </g>\r\n     </g>\r\n    </g>\r\n   </g>\r\n   <g id=\"matplotlib.axis_2\">\r\n    <g id=\"ytick_1\">\r\n     <g id=\"line2d_6\">\r\n      <defs>\r\n       <path d=\"M 0 0 \r\nL -3.5 0 \r\n\" id=\"m3c4cff37f7\" style=\"stroke:#000000;stroke-width:0.8;\"/>\r\n      </defs>\r\n      <g>\r\n       <use style=\"stroke:#000000;stroke-width:0.8;\" x=\"26.925\" xlink:href=\"#m3c4cff37f7\" y=\"29.113125\"/>\r\n      </g>\r\n     </g>\r\n     <g id=\"text_6\">\r\n      <!-- 0 -->\r\n      <g transform=\"translate(13.5625 32.912344)scale(0.1 -0.1)\">\r\n       <use xlink:href=\"#DejaVuSans-48\"/>\r\n      </g>\r\n     </g>\r\n    </g>\r\n    <g id=\"ytick_2\">\r\n     <g id=\"line2d_7\">\r\n      <g>\r\n       <use style=\"stroke:#000000;stroke-width:0.8;\" x=\"26.925\" xlink:href=\"#m3c4cff37f7\" y=\"97.063125\"/>\r\n      </g>\r\n     </g>\r\n     <g id=\"text_7\">\r\n      <!-- 5 -->\r\n      <g transform=\"translate(13.5625 100.862344)scale(0.1 -0.1)\">\r\n       <use xlink:href=\"#DejaVuSans-53\"/>\r\n      </g>\r\n     </g>\r\n    </g>\r\n    <g id=\"ytick_3\">\r\n     <g id=\"line2d_8\">\r\n      <g>\r\n       <use style=\"stroke:#000000;stroke-width:0.8;\" x=\"26.925\" xlink:href=\"#m3c4cff37f7\" y=\"165.013125\"/>\r\n      </g>\r\n     </g>\r\n     <g id=\"text_8\">\r\n      <!-- 10 -->\r\n      <g transform=\"translate(7.2 168.812344)scale(0.1 -0.1)\">\r\n       <use xlink:href=\"#DejaVuSans-49\"/>\r\n       <use x=\"63.623047\" xlink:href=\"#DejaVuSans-48\"/>\r\n      </g>\r\n     </g>\r\n    </g>\r\n    <g id=\"ytick_4\">\r\n     <g id=\"line2d_9\">\r\n      <g>\r\n       <use style=\"stroke:#000000;stroke-width:0.8;\" x=\"26.925\" xlink:href=\"#m3c4cff37f7\" y=\"232.963125\"/>\r\n      </g>\r\n     </g>\r\n     <g id=\"text_9\">\r\n      <!-- 15 -->\r\n      <g transform=\"translate(7.2 236.762344)scale(0.1 -0.1)\">\r\n       <use xlink:href=\"#DejaVuSans-49\"/>\r\n       <use x=\"63.623047\" xlink:href=\"#DejaVuSans-53\"/>\r\n      </g>\r\n     </g>\r\n    </g>\r\n    <g id=\"ytick_5\">\r\n     <g id=\"line2d_10\">\r\n      <g>\r\n       <use style=\"stroke:#000000;stroke-width:0.8;\" x=\"26.925\" xlink:href=\"#m3c4cff37f7\" y=\"300.913125\"/>\r\n      </g>\r\n     </g>\r\n     <g id=\"text_10\">\r\n      <!-- 20 -->\r\n      <g transform=\"translate(7.2 304.712344)scale(0.1 -0.1)\">\r\n       <use xlink:href=\"#DejaVuSans-50\"/>\r\n       <use x=\"63.623047\" xlink:href=\"#DejaVuSans-48\"/>\r\n      </g>\r\n     </g>\r\n    </g>\r\n   </g>\r\n   <g id=\"patch_3\">\r\n    <path d=\"M 26.925 348.478125 \r\nL 26.925 22.318125 \r\n\" style=\"fill:none;stroke:#000000;stroke-linecap:square;stroke-linejoin:miter;stroke-width:0.8;\"/>\r\n   </g>\r\n   <g id=\"patch_4\">\r\n    <path d=\"M 353.085 348.478125 \r\nL 353.085 22.318125 \r\n\" style=\"fill:none;stroke:#000000;stroke-linecap:square;stroke-linejoin:miter;stroke-width:0.8;\"/>\r\n   </g>\r\n   <g id=\"patch_5\">\r\n    <path d=\"M 26.925 348.478125 \r\nL 353.085 348.478125 \r\n\" style=\"fill:none;stroke:#000000;stroke-linecap:square;stroke-linejoin:miter;stroke-width:0.8;\"/>\r\n   </g>\r\n   <g id=\"patch_6\">\r\n    <path d=\"M 26.925 22.318125 \r\nL 353.085 22.318125 \r\n\" style=\"fill:none;stroke:#000000;stroke-linecap:square;stroke-linejoin:miter;stroke-width:0.8;\"/>\r\n   </g>\r\n   <g id=\"text_11\">\r\n    <!-- Learned w -->\r\n    <defs>\r\n     <path d=\"M 9.8125 72.90625 \r\nL 19.671875 72.90625 \r\nL 19.671875 8.296875 \r\nL 55.171875 8.296875 \r\nL 55.171875 0 \r\nL 9.8125 0 \r\nz\r\n\" id=\"DejaVuSans-76\"/>\r\n     <path d=\"M 56.203125 29.59375 \r\nL 56.203125 25.203125 \r\nL 14.890625 25.203125 \r\nQ 15.484375 15.921875 20.484375 11.0625 \r\nQ 25.484375 6.203125 34.421875 6.203125 \r\nQ 39.59375 6.203125 44.453125 7.46875 \r\nQ 49.3125 8.734375 54.109375 11.28125 \r\nL 54.109375 2.78125 \r\nQ 49.265625 0.734375 44.1875 -0.34375 \r\nQ 39.109375 -1.421875 33.890625 -1.421875 \r\nQ 20.796875 -1.421875 13.15625 6.1875 \r\nQ 5.515625 13.8125 5.515625 26.8125 \r\nQ 5.515625 40.234375 12.765625 48.109375 \r\nQ 20.015625 56 32.328125 56 \r\nQ 43.359375 56 49.78125 48.890625 \r\nQ 56.203125 41.796875 56.203125 29.59375 \r\nz\r\nM 47.21875 32.234375 \r\nQ 47.125 39.59375 43.09375 43.984375 \r\nQ 39.0625 48.390625 32.421875 48.390625 \r\nQ 24.90625 48.390625 20.390625 44.140625 \r\nQ 15.875 39.890625 15.1875 32.171875 \r\nz\r\n\" id=\"DejaVuSans-101\"/>\r\n     <path d=\"M 34.28125 27.484375 \r\nQ 23.390625 27.484375 19.1875 25 \r\nQ 14.984375 22.515625 14.984375 16.5 \r\nQ 14.984375 11.71875 18.140625 8.90625 \r\nQ 21.296875 6.109375 26.703125 6.109375 \r\nQ 34.1875 6.109375 38.703125 11.40625 \r\nQ 43.21875 16.703125 43.21875 25.484375 \r\nL 43.21875 27.484375 \r\nz\r\nM 52.203125 31.203125 \r\nL 52.203125 0 \r\nL 43.21875 0 \r\nL 43.21875 8.296875 \r\nQ 40.140625 3.328125 35.546875 0.953125 \r\nQ 30.953125 -1.421875 24.3125 -1.421875 \r\nQ 15.921875 -1.421875 10.953125 3.296875 \r\nQ 6 8.015625 6 15.921875 \r\nQ 6 25.140625 12.171875 29.828125 \r\nQ 18.359375 34.515625 30.609375 34.515625 \r\nL 43.21875 34.515625 \r\nL 43.21875 35.40625 \r\nQ 43.21875 41.609375 39.140625 45 \r\nQ 35.0625 48.390625 27.6875 48.390625 \r\nQ 23 48.390625 18.546875 47.265625 \r\nQ 14.109375 46.140625 10.015625 43.890625 \r\nL 10.015625 52.203125 \r\nQ 14.9375 54.109375 19.578125 55.046875 \r\nQ 24.21875 56 28.609375 56 \r\nQ 40.484375 56 46.34375 49.84375 \r\nQ 52.203125 43.703125 52.203125 31.203125 \r\nz\r\n\" id=\"DejaVuSans-97\"/>\r\n     <path d=\"M 41.109375 46.296875 \r\nQ 39.59375 47.171875 37.8125 47.578125 \r\nQ 36.03125 48 33.890625 48 \r\nQ 26.265625 48 22.1875 43.046875 \r\nQ 18.109375 38.09375 18.109375 28.8125 \r\nL 18.109375 0 \r\nL 9.078125 0 \r\nL 9.078125 54.6875 \r\nL 18.109375 54.6875 \r\nL 18.109375 46.1875 \r\nQ 20.953125 51.171875 25.484375 53.578125 \r\nQ 30.03125 56 36.53125 56 \r\nQ 37.453125 56 38.578125 55.875 \r\nQ 39.703125 55.765625 41.0625 55.515625 \r\nz\r\n\" id=\"DejaVuSans-114\"/>\r\n     <path d=\"M 54.890625 33.015625 \r\nL 54.890625 0 \r\nL 45.90625 0 \r\nL 45.90625 32.71875 \r\nQ 45.90625 40.484375 42.875 44.328125 \r\nQ 39.84375 48.1875 33.796875 48.1875 \r\nQ 26.515625 48.1875 22.3125 43.546875 \r\nQ 18.109375 38.921875 18.109375 30.90625 \r\nL 18.109375 0 \r\nL 9.078125 0 \r\nL 9.078125 54.6875 \r\nL 18.109375 54.6875 \r\nL 18.109375 46.1875 \r\nQ 21.34375 51.125 25.703125 53.5625 \r\nQ 30.078125 56 35.796875 56 \r\nQ 45.21875 56 50.046875 50.171875 \r\nQ 54.890625 44.34375 54.890625 33.015625 \r\nz\r\n\" id=\"DejaVuSans-110\"/>\r\n     <path d=\"M 45.40625 46.390625 \r\nL 45.40625 75.984375 \r\nL 54.390625 75.984375 \r\nL 54.390625 0 \r\nL 45.40625 0 \r\nL 45.40625 8.203125 \r\nQ 42.578125 3.328125 38.25 0.953125 \r\nQ 33.9375 -1.421875 27.875 -1.421875 \r\nQ 17.96875 -1.421875 11.734375 6.484375 \r\nQ 5.515625 14.40625 5.515625 27.296875 \r\nQ 5.515625 40.1875 11.734375 48.09375 \r\nQ 17.96875 56 27.875 56 \r\nQ 33.9375 56 38.25 53.625 \r\nQ 42.578125 51.265625 45.40625 46.390625 \r\nz\r\nM 14.796875 27.296875 \r\nQ 14.796875 17.390625 18.875 11.75 \r\nQ 22.953125 6.109375 30.078125 6.109375 \r\nQ 37.203125 6.109375 41.296875 11.75 \r\nQ 45.40625 17.390625 45.40625 27.296875 \r\nQ 45.40625 37.203125 41.296875 42.84375 \r\nQ 37.203125 48.484375 30.078125 48.484375 \r\nQ 22.953125 48.484375 18.875 42.84375 \r\nQ 14.796875 37.203125 14.796875 27.296875 \r\nz\r\n\" id=\"DejaVuSans-100\"/>\r\n     <path id=\"DejaVuSans-32\"/>\r\n     <path d=\"M 4.203125 54.6875 \r\nL 13.1875 54.6875 \r\nL 24.421875 12.015625 \r\nL 35.59375 54.6875 \r\nL 46.1875 54.6875 \r\nL 57.421875 12.015625 \r\nL 68.609375 54.6875 \r\nL 77.59375 54.6875 \r\nL 63.28125 0 \r\nL 52.6875 0 \r\nL 40.921875 44.828125 \r\nL 29.109375 0 \r\nL 18.5 0 \r\nz\r\n\" id=\"DejaVuSans-119\"/>\r\n    </defs>\r\n    <g transform=\"translate(158.71125 16.318125)scale(0.12 -0.12)\">\r\n     <use xlink:href=\"#DejaVuSans-76\"/>\r\n     <use x=\"55.697266\" xlink:href=\"#DejaVuSans-101\"/>\r\n     <use x=\"117.220703\" xlink:href=\"#DejaVuSans-97\"/>\r\n     <use x=\"178.5\" xlink:href=\"#DejaVuSans-114\"/>\r\n     <use x=\"219.597656\" xlink:href=\"#DejaVuSans-110\"/>\r\n     <use x=\"282.976562\" xlink:href=\"#DejaVuSans-101\"/>\r\n     <use x=\"344.5\" xlink:href=\"#DejaVuSans-100\"/>\r\n     <use x=\"407.976562\" xlink:href=\"#DejaVuSans-32\"/>\r\n     <use x=\"439.763672\" xlink:href=\"#DejaVuSans-119\"/>\r\n    </g>\r\n   </g>\r\n  </g>\r\n </g>\r\n <defs>\r\n  <clipPath id=\"pdc97447190\">\r\n   <rect height=\"326.16\" width=\"326.16\" x=\"26.925\" y=\"22.318125\"/>\r\n  </clipPath>\r\n </defs>\r\n</svg>\r\n",
      "image/png": "[encoded data removed]"
     },
     "metadata": {
      "needs_background": "light"
     }
    },
    {
     "output_type": "stream",
     "name": "stdout",
     "text": [
      "Accuracy train: 0.9209047687653076\nAccuracy test: 0.9107563025210084\n"
     ]
    }
   ],
   "source": [
    "# We'll meausure the execution time\n",
    "start = time.time()\n",
    "\n",
    "C = 30.0\n",
    "w, b = svm_solver(X_train, y_train, C, num_iter=30000, num_per_batch=64)\n",
    "\n",
    "exec_time = time.time()-start\n",
    "print('Total exection time: {}s'.format(exec_time))\n",
    "\n",
    "# We can have a look at what theta has learned to recognise as \"face\"\n",
    "plt.imshow(np.reshape(w, [24, 24], order='F'))\n",
    "plt.title('Learned w')\n",
    "plt.show()\n",
    "\n",
    "# Make predictions\n",
    "preds_train = np.ones_like(y_train) - 2 * (np.dot(X_train, w) + b < 0)\n",
    "preds_test = np.ones_like(y_test) - 2 * (np.dot(X_test, w) + b < 0)\n",
    "\n",
    "print('Accuracy train: {}'.format(np.mean(preds_train == y_train)))\n",
    "print('Accuracy test: {}'.format(np.mean(preds_test == y_test)))"
   ]
  },
  {
   "cell_type": "markdown",
   "metadata": {},
   "source": [
    "# Part 2: Multi-Class SVM\n",
    "\n",
    "In this second part of the assignment you will train a multi-class SVM on a dataset of handwritten digits.\n",
    "\n",
    "A seperate (withheld) test set will be used for the evaluation of your classifiers. It is therefore important that you take good care not to overfit and ensure that your models generalize to unseen data.\n",
    "\n",
    "\n",
    "## Setup\n",
    "\n",
    "First load and visualize some of the data:\n"
   ]
  },
  {
   "cell_type": "code",
   "execution_count": null,
   "metadata": {
    "scrolled": false
   },
   "outputs": [],
   "source": [
    "import numpy as np\n",
    "import matplotlib.pyplot as plt\n",
    "\n",
    "classes = range(10)\n",
    "\n",
    "data = np.load('data.npy', encoding='latin1')\n",
    "X = data[()]['X']\n",
    "y = data[()]['y']\n",
    "\n",
    "# Visualize some examples from the dataset.\n",
    "samples_per_class = 5\n",
    "imgs = np.reshape(X, [-1, 16, 16])\n",
    "labels = y\n",
    "\n",
    "for j, cls in enumerate(classes):\n",
    "    idxs = np.flatnonzero(np.equal(labels, cls))\n",
    "    idxs = np.random.choice(idxs, samples_per_class, replace=False)\n",
    "    for i, idx in enumerate(idxs):\n",
    "        plt_idx = j * samples_per_class + i + 1\n",
    "        plt.subplot(samples_per_class, len(classes), plt_idx)\n",
    "        plt.imshow(imgs[idx])\n",
    "        plt.axis('off')\n",
    "        plt.title(cls)\n",
    "plt.show()"
   ]
  },
  {
   "cell_type": "markdown",
   "metadata": {},
   "source": [
    "## Exercise 4: Preparing the data [10 Points]\n",
    "\n",
    "In this exercise you should:\n",
    "* Prepare the data for cross validation (train/test splits)\n",
    "* Preprocess the data for use with the SVM (this can have a **big** effect on the performance!)\n",
    "\n",
    "**NOTE:** You are allowed to use any functions in sklearn for this exercise"
   ]
  },
  {
   "cell_type": "code",
   "execution_count": null,
   "metadata": {},
   "outputs": [],
   "source": [
    "from sklearn import preprocessing\n",
    "\n",
    "X_train = y_train = X_test = y_test = None\n",
    "\n",
    "#######################################################################\n",
    "# TODO:                                                               #\n",
    "# Arrange the data into train and test sets                           #\n",
    "# Be careful about how you split the data:                            #\n",
    "# - If train and test distribution are very different your test       #\n",
    "#   performance will be poor                                          #\n",
    "# - Think about the sizes of the splits: What are good values and how #\n",
    "#   does this affect your train/test performance?                     #\n",
    "#######################################################################\n",
    "\n",
    "# normally it is divided to 02. and 0.8 of the data set.\n",
    "pass\n",
    "\n",
    "#######################################################################\n",
    "#                         END OF YOUR CODE                            #\n",
    "#######################################################################\n",
    "\n",
    "\n",
    "def pre_process(x):\n",
    "    #######################################################################\n",
    "    # TODO:                                                               #\n",
    "    # Implement preprocessing of the data before feeding to the SVM.      #\n",
    "    # NOTE: This function will be used to grade the performance on the    #\n",
    "    # held-out test set                                                   #\n",
    "    #######################################################################\n",
    "    \n",
    "    pass\n",
    "    \n",
    "    #######################################################################\n",
    "    #                         END OF YOUR CODE                            #\n",
    "    #######################################################################\n",
    "    return x\n",
    "\n",
    "X_train = pre_process(X_train)\n",
    "X_test = pre_process(X_test)\n",
    "\n",
    "print('Training data shape:', X_train.shape)\n",
    "print('Training labels shape:', y_train.shape)\n",
    "print('Test data shape:', X_test.shape)\n",
    "print('Test labels shape:', y_test.shape)"
   ]
  },
  {
   "cell_type": "markdown",
   "metadata": {},
   "source": [
    "## Exercise 5: Training and evaluating a linear SMV [10 Points]\n",
    "\n",
    "Now its time to train a linear SVM on your training data and evaluate its performance on the test set.\n",
    "\n",
    "You should use [sklearn.svm.LinearSVC](http://scikit-learn.org/stable/modules/generated/sklearn.svm.LinearSVC.html#sklearn.svm.LinearSVC) for training the model. See the documentation for usage, arguments, return values and methods."
   ]
  },
  {
   "cell_type": "code",
   "execution_count": null,
   "metadata": {},
   "outputs": [],
   "source": [
    "from sklearn.svm import LinearSVC\n",
    "\n",
    "def train_linear_SVM(X, y, C, max_iter=100):\n",
    "    \"\"\"\n",
    "    Linear multi-class SVM solver.\n",
    "\n",
    "    Args:\n",
    "        X: Data matrix of shape [num_train, num_features]\n",
    "        y: Labels corresponding to X of size [num_train]\n",
    "        C: Hyper-parameter for SVM\n",
    "        max_iter: Maximum number of iterations\n",
    "\n",
    "    Returns:\n",
    "        lin_clf: The learnt classifier (LinearSVC instance)\n",
    "\n",
    "    \"\"\"\n",
    "    lin_clf = None\n",
    "    print('Solving linear-SVM...')\n",
    "\n",
    "    #######################################################################\n",
    "    # TODO:                                                               #\n",
    "    # Train the SVM using LinearSVC and return the learnt classifier      #\n",
    "    #######################################################################\n",
    "\n",
    "    pass\n",
    "\n",
    "    #######################################################################\n",
    "    #                         END OF YOUR CODE                            #\n",
    "    #######################################################################\n",
    "    return lin_clf\n",
    "\n",
    "C = 5.0\n",
    "lin_clf = train_linear_SVM(X_train, y_train, C)\n",
    "\n",
    "#######################################################################\n",
    "# TODO:                                                               #\n",
    "# Visualize the learnt weights (lin_clf.coef_) for all the classes:   #\n",
    "# - Make a plot with ten figures showing the respective weights for   #\n",
    "#   each of the classes                                               #\n",
    "#######################################################################\n",
    "\n",
    "pass\n",
    "\n",
    "#######################################################################\n",
    "#                         END OF YOUR CODE                            #\n",
    "#######################################################################\n"
   ]
  },
  {
   "cell_type": "markdown",
   "metadata": {},
   "source": [
    "## Exercise 7: Evaluating a multi-class classifier [10 Points]\n",
    "\n",
    "You should now evaluate you learnt classifier. For this you have to:\n",
    "* Compute predictions on the train and test sets\n",
    "* Compute the accuracy of the predictions\n",
    "* Compute the confusion matrix (see [here](https://en.wikipedia.org/wiki/Confusion_matrix) for info)\n",
    "* Answer the question below\n",
    "\n",
    "**Note:** You can make use of sklearn.metrics\n"
   ]
  },
  {
   "cell_type": "code",
   "execution_count": null,
   "metadata": {},
   "outputs": [],
   "source": [
    "from sklearn.metrics import accuracy_score, confusion_matrix\n",
    "\n",
    "def eval_clf(y_pred_train, y_train, y_pred_test, y_test):\n",
    "    #######################################################################\n",
    "    # TODO:                                                               #\n",
    "    # Use the learnt classifier to make predictions on the test set.      #\n",
    "    # Compute the accuracy on train and test sets.                        #\n",
    "    # Compute the confusion matrix on the test set.                       #\n",
    "    #######################################################################\n",
    "\n",
    "    acc_test = acc_train = cm_test = None\n",
    "\n",
    "    #######################################################################\n",
    "    #                         END OF YOUR CODE                            #\n",
    "    #######################################################################\n",
    "    return acc_train, acc_test, cm_test\n",
    "\n",
    "acc_train, acc_test, cm_test = eval_clf(\n",
    "    lin_clf.predict(X_train),\n",
    "    y_train,\n",
    "    lin_clf.predict(X_test),\n",
    "    y_test)\n",
    "print(\"Linear SVM accuracy train: {}\".format(acc_train))\n",
    "print(\"Linear SVM accuracy test: {}\".format(acc_test))\n",
    "print(\"Confusion matrix:\\n%s\" % cm_test)"
   ]
  },
  {
   "cell_type": "markdown",
   "metadata": {},
   "source": [
    "## Question: \n",
    "* Which pair of digits does the classifier confuse most often?\n",
    "\n",
    "***Your Answer:***\n",
    "\n",
    "After comparing some confusion matrices the highest numbers were usually within the rows of 3, 8 and 9 and most notably the pair of 4 and 9 got confused the most often."
   ]
  },
  {
   "cell_type": "markdown",
   "metadata": {},
   "source": [
    "## Exercise 7: Training and evaluating a SMV with Gaussian kernel [10 Points]\n",
    "\n",
    "Now you will train a SVM with Gaussian kernel (also called RBF kernel).\n",
    "\n",
    "You should use [sklearn.svm.SVC](http://scikit-learn.org/stable/modules/generated/sklearn.svm.SVC.html) for training the model. See the documentation for usage, arguments and return values.\n",
    "Experiment with values for the hyper-parameters $C$ and $\\gamma$ and answer the question below."
   ]
  },
  {
   "cell_type": "code",
   "execution_count": null,
   "metadata": {},
   "outputs": [],
   "source": [
    "from sklearn.svm import SVC\n",
    "from sklearn.metrics import accuracy_score\n",
    "\n",
    "\n",
    "def train_gaussian_SVM(X, y, C, gamma, max_iter=100):\n",
    "    \"\"\"\n",
    "    Multi-class SVM solver with Gaussian kernel.\n",
    "\n",
    "    Args:\n",
    "        X: Data matrix of shape [num_train, num_features]\n",
    "        y: Labels corresponding to X of size [num_train]\n",
    "        C: Hyper-parameter for SVM\n",
    "        max_iter: Maximum number of iterations\n",
    "\n",
    "    Returns:\n",
    "        w: The value of the parameters after logistic regression\n",
    "\n",
    "    \"\"\"\n",
    "    print('Solving RBF-SVM: This can take a while...')\n",
    "    \n",
    "    #######################################################################\n",
    "    # TODO:                                                               #\n",
    "    # Train the SVM using LinearSVC and return the learnt classifier      #\n",
    "    #######################################################################\n",
    "\n",
    "    clf_rbf = None\n",
    "\n",
    "    #######################################################################\n",
    "    #                         END OF YOUR CODE                            #\n",
    "    #######################################################################\n",
    "    return clf_rbf\n",
    "\n",
    "C = 100.0\n",
    "gamma = 10.0\n",
    "clf_rbf = train_gaussian_SVM(X_train, y_train, C, gamma)\n",
    "\n",
    "acc_train, acc_test, cm_test = eval_clf(\n",
    "    clf_rbf.predict(X_train),\n",
    "    y_train,\n",
    "    clf_rbf.predict(X_test),\n",
    "    y_test)\n",
    "print(\"RBF SVM accuracy train: {}\".format(acc_train))\n",
    "print(\"RBF SVM accuracy test: {}\".format(acc_test))\n",
    "print(\"Confusion matrix:\\n%s\" % cm_test)"
   ]
  },
  {
   "cell_type": "markdown",
   "metadata": {},
   "source": [
    "## Exercise 8: Changing data size [5 Points]"
   ]
  },
  {
   "cell_type": "markdown",
   "metadata": {},
   "source": [
    "Let us also investigate how the amount of the data influence the performance of the model. You will extract a randomly chosen part of the training data with reduced size to train the model on."
   ]
  },
  {
   "cell_type": "code",
   "execution_count": null,
   "metadata": {},
   "outputs": [],
   "source": [
    "def extract_data_part(X, y, part):    \n",
    "    #######################################################################\n",
    "    # TODO:                                                               #\n",
    "    # Randomly choose part of the data with size part*X.shape[0]          #\n",
    "    # Return X_part, y_part                                               #\n",
    "    #######################################################################\n",
    "\n",
    "    X_part = y_part = None\n",
    "    \n",
    "    #######################################################################\n",
    "    #                         END OF YOUR CODE                            #\n",
    "    #######################################################################\n",
    "    \n",
    "    return X_part, y_part\n",
    "\n",
    "\n",
    "part = 0.1\n",
    "X_train_part, y_train_part = extract_data_part(X_train, y_train, part)\n",
    "X_train_part = pre_process(X_train_part)\n",
    "\n",
    "C = 100.0\n",
    "gamma = 10.0\n",
    "clf_rbf_part = train_gaussian_SVM(X_train_part, y_train_part, C, gamma)\n",
    "\n",
    "acc_train, acc_test, cm_test = eval_clf(\n",
    "    clf_rbf_part.predict(X_train_part),\n",
    "    y_train_part,\n",
    "    clf_rbf_part.predict(X_test),\n",
    "    y_test)\n",
    "print(\"RBF SVM accuracy train: {}\".format(acc_train))\n",
    "print(\"RBF SVM accuracy test: {}\".format(acc_test))\n",
    "print(\"Confusion matrix:\\n%s\" % cm_test)"
   ]
  },
  {
   "cell_type": "markdown",
   "metadata": {},
   "source": [
    "The model is apparently overfitted. Seems like the proper regularization could help. Try to tune the hyperparameters $C$ and $\\gamma$ to make the performance of the model as close to the one trained on the whole dataset as possible."
   ]
  },
  {
   "cell_type": "markdown",
   "metadata": {},
   "source": [
    "Now let's change the data size and plot the accuracy of the model depending on the size of the dataset."
   ]
  },
  {
   "cell_type": "code",
   "execution_count": null,
   "metadata": {},
   "outputs": [],
   "source": [
    "train_accs = list()\n",
    "test_accs = list()\n",
    "\n",
    "part_range = [0.1, 0.3, 0.5, 0.7, 1.0]\n",
    "for part in part_range:\n",
    "    print(\"Training the model for {}% of the train data\".format(part * 100))\n",
    "    #######################################################################\n",
    "    # TODO:                                                               #\n",
    "    # Extract the corresponding part of the training data                 #\n",
    "    # Train the model and evaluate train and test accuracies              #\n",
    "    #######################################################################\n",
    "\n",
    "    acc_train = acc_test = None\n",
    "    \n",
    "    #######################################################################\n",
    "    #                         END OF YOUR CODE                            #\n",
    "    #######################################################################\n",
    "    \n",
    "    train_accs.append(acc_train)\n",
    "    test_accs.append(acc_test)"
   ]
  },
  {
   "cell_type": "code",
   "execution_count": null,
   "metadata": {},
   "outputs": [],
   "source": [
    "plt.figure(figsize=(10, 5))\n",
    "plt.title(\"Accuracy depending on data size\", fontsize=15)\n",
    "plt.plot(part_range, train_accs, label=\"train_acc\")\n",
    "plt.plot(part_range, test_accs, label=\"test_acc\")\n",
    "plt.xticks(part_range, part_range)\n",
    "plt.legend(fontsize=15)\n",
    "plt.show()"
   ]
  },
  {
   "cell_type": "markdown",
   "metadata": {},
   "source": [
    "## Question:\n",
    "* How do the hyper-parameters influence the classifier? What happens for extreme values of the hyper-parameters?\n",
    "\n",
    "***Your Answer:***\n",
    "\n",
    "* What can you say about the influence of the data size on the performance of the model?\n",
    "\n",
    "***Your Answer:***"
   ]
  },
  {
   "cell_type": "markdown",
   "metadata": {},
   "source": [
    "## Exercise 9: Questions [10 Points]\n",
    "\n",
    "Answer the following questions and justify your answers:\n",
    "\n",
    "* How does your implementation of the linear SVM (Pegasos) compare to the classifiers of the previous assignment? Which method is the most accurate? Which one the fastest to train? Which one is the most versatile?\n",
    "\n",
    "\t***Your Answer:***\n",
    "\n",
    "\n",
    "* Linear SVM vs. Gaussian Kernel SVM: Give advantages and disadvantages of both approaches. \n",
    "\n",
    "\t***Your Answer:***\n",
    "\n",
    "\n",
    "* Linear SVM vs. Gaussian Kernel SVM: In what setting would you pick one method over the other? Answer in terms of number of training examples $m_{train}$ and feature dimension $d$\n",
    "\n",
    "\t***Your Answer:***"
   ]
  },
  {
   "cell_type": "markdown",
   "metadata": {},
   "source": [
    "## Bonus: Tune those Hyper-Parameters! [10 Points]\n",
    "\n",
    "Perform hyper-parameter tuning for the two multi-class SVMs. Your performance will be measured on a held-out test set and the **10% best scoring submissions get 5 bonus points** (5 points for linear-SVM and 5 points for RBF-SVM). \n",
    "\n",
    "Set the best parameter values above. The performance will be **tested with max_iter=100**!\n",
    "\n",
    "Additional 5 points can be gained by demonstrating a principled approach for hyper-parameter search below. For ideas refer to:\n",
    "http://scikit-learn.org/stable/modules/grid_search.html\n"
   ]
  },
  {
   "cell_type": "code",
   "execution_count": null,
   "metadata": {},
   "outputs": [],
   "source": [
    "# Your optional hyper-parameter tuning code goes here..."
   ]
  }
 ],
 "metadata": {
  "anaconda-cloud": {},
  "kernelspec": {
   "display_name": "Python 3",
   "language": "python",
   "name": "python3"
  },
  "language_info": {
   "codemirror_mode": {
    "name": "ipython",
    "version": 3
   },
   "file_extension": ".py",
   "mimetype": "text/x-python",
   "name": "python",
   "nbconvert_exporter": "python",
   "pygments_lexer": "ipython3",
   "version": "3.6.10-final"
  }
 },
 "nbformat": 4,
 "nbformat_minor": 1
}